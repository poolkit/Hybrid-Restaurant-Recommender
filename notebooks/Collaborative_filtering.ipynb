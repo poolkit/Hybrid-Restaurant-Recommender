{
 "cells": [
  {
   "cell_type": "code",
   "execution_count": 2,
   "metadata": {},
   "outputs": [],
   "source": [
    "import pandas as pd\n",
    "import numpy as np\n",
    "import matplotlib.pyplot as plt\n",
    "import hashlib\n",
    "\n",
    "from sklearn.preprocessing import LabelEncoder\n",
    "from sklearn.model_selection import train_test_split\n",
    "from sklearn.metrics import mean_squared_error\n",
    "\n",
    "import tensorflow as tf\n",
    "from tensorflow.keras.layers import Embedding, Flatten, Input, Dot, Concatenate, Dense, Dropout, BatchNormalization\n",
    "from tensorflow.keras.models import Model, load_model\n",
    "from tensorflow.keras.regularizers import l2\n",
    "from tensorflow.keras.callbacks import EarlyStopping, ModelCheckpoint\n",
    "\n",
    "pd.set_option('display.max_columns', None)"
   ]
  },
  {
   "cell_type": "code",
   "execution_count": 3,
   "metadata": {},
   "outputs": [],
   "source": [
    "reviews = pd.read_csv('../dataset/processed/reviews.csv')"
   ]
  },
  {
   "cell_type": "code",
   "execution_count": 4,
   "metadata": {},
   "outputs": [
    {
     "name": "stdout",
     "output_type": "stream",
     "text": [
      "<class 'pandas.core.frame.DataFrame'>\n",
      "RangeIndex: 419344 entries, 0 to 419343\n",
      "Data columns (total 3 columns):\n",
      " #   Column       Non-Null Count   Dtype \n",
      "---  ------       --------------   ----- \n",
      " 0   user_id      419344 non-null  object\n",
      " 1   business_id  419344 non-null  object\n",
      " 2   stars        419344 non-null  int64 \n",
      "dtypes: int64(1), object(2)\n",
      "memory usage: 9.6+ MB\n"
     ]
    }
   ],
   "source": [
    "reviews.info()"
   ]
  },
  {
   "cell_type": "code",
   "execution_count": 5,
   "metadata": {},
   "outputs": [
    {
     "data": {
      "text/html": [
       "<div>\n",
       "<style scoped>\n",
       "    .dataframe tbody tr th:only-of-type {\n",
       "        vertical-align: middle;\n",
       "    }\n",
       "\n",
       "    .dataframe tbody tr th {\n",
       "        vertical-align: top;\n",
       "    }\n",
       "\n",
       "    .dataframe thead th {\n",
       "        text-align: right;\n",
       "    }\n",
       "</style>\n",
       "<table border=\"1\" class=\"dataframe\">\n",
       "  <thead>\n",
       "    <tr style=\"text-align: right;\">\n",
       "      <th></th>\n",
       "      <th>user_id</th>\n",
       "      <th>business_id</th>\n",
       "      <th>stars</th>\n",
       "    </tr>\n",
       "  </thead>\n",
       "  <tbody>\n",
       "    <tr>\n",
       "      <th>0</th>\n",
       "      <td>mh_-eMZ6K5RLWhZyISBhwA</td>\n",
       "      <td>d_tRshM-w6S4QxE4VVi8tQ</td>\n",
       "      <td>3</td>\n",
       "    </tr>\n",
       "    <tr>\n",
       "      <th>1</th>\n",
       "      <td>Zs8Zk3sgh5JxRmoZW4PJcg</td>\n",
       "      <td>d_tRshM-w6S4QxE4VVi8tQ</td>\n",
       "      <td>2</td>\n",
       "    </tr>\n",
       "    <tr>\n",
       "      <th>2</th>\n",
       "      <td>OkjeFppodgJP_CvB84cJYw</td>\n",
       "      <td>d_tRshM-w6S4QxE4VVi8tQ</td>\n",
       "      <td>3</td>\n",
       "    </tr>\n",
       "    <tr>\n",
       "      <th>3</th>\n",
       "      <td>11xwVSDv1ytjcyvUiyBWaw</td>\n",
       "      <td>d_tRshM-w6S4QxE4VVi8tQ</td>\n",
       "      <td>4</td>\n",
       "    </tr>\n",
       "    <tr>\n",
       "      <th>4</th>\n",
       "      <td>8EMU7d4pCkdqUnvlIW40CA</td>\n",
       "      <td>d_tRshM-w6S4QxE4VVi8tQ</td>\n",
       "      <td>4</td>\n",
       "    </tr>\n",
       "  </tbody>\n",
       "</table>\n",
       "</div>"
      ],
      "text/plain": [
       "                  user_id             business_id  stars\n",
       "0  mh_-eMZ6K5RLWhZyISBhwA  d_tRshM-w6S4QxE4VVi8tQ      3\n",
       "1  Zs8Zk3sgh5JxRmoZW4PJcg  d_tRshM-w6S4QxE4VVi8tQ      2\n",
       "2  OkjeFppodgJP_CvB84cJYw  d_tRshM-w6S4QxE4VVi8tQ      3\n",
       "3  11xwVSDv1ytjcyvUiyBWaw  d_tRshM-w6S4QxE4VVi8tQ      4\n",
       "4  8EMU7d4pCkdqUnvlIW40CA  d_tRshM-w6S4QxE4VVi8tQ      4"
      ]
     },
     "execution_count": 5,
     "metadata": {},
     "output_type": "execute_result"
    }
   ],
   "source": [
    "reviews.head()"
   ]
  },
  {
   "cell_type": "code",
   "execution_count": 6,
   "metadata": {},
   "outputs": [
    {
     "name": "stdout",
     "output_type": "stream",
     "text": [
      "Wall time: 72.1 ms\n"
     ]
    }
   ],
   "source": [
    "%%time\n",
    "train_data, test_data = train_test_split(reviews, test_size=0.2)"
   ]
  },
  {
   "cell_type": "code",
   "execution_count": 7,
   "metadata": {},
   "outputs": [
    {
     "name": "stdout",
     "output_type": "stream",
     "text": [
      "(335475, 3)\n",
      "(83869, 3)\n"
     ]
    }
   ],
   "source": [
    "print(train_data.shape)\n",
    "print(test_data.shape)"
   ]
  },
  {
   "cell_type": "code",
   "execution_count": 8,
   "metadata": {},
   "outputs": [
    {
     "name": "stdout",
     "output_type": "stream",
     "text": [
      "Wall time: 277 ms\n"
     ]
    }
   ],
   "source": [
    "%%time\n",
    "user_encoder = LabelEncoder()\n",
    "business_encoder = LabelEncoder()\n",
    "\n",
    "train_data['user_id_encoded'] = user_encoder.fit_transform(train_data['user_id'])\n",
    "train_data['business_id_encoded'] = business_encoder.fit_transform(train_data['business_id'])"
   ]
  },
  {
   "cell_type": "code",
   "execution_count": 9,
   "metadata": {},
   "outputs": [
    {
     "data": {
      "text/plain": [
       "(60241, 3829)"
      ]
     },
     "execution_count": 9,
     "metadata": {},
     "output_type": "execute_result"
    }
   ],
   "source": [
    "len(user_encoder.classes_), len(business_encoder.classes_)"
   ]
  },
  {
   "cell_type": "code",
   "execution_count": 10,
   "metadata": {},
   "outputs": [],
   "source": [
    "test_data = test_data[test_data['user_id'].isin(user_encoder.classes_)]\n",
    "test_data = test_data[test_data['business_id'].isin(business_encoder.classes_)]"
   ]
  },
  {
   "cell_type": "code",
   "execution_count": 11,
   "metadata": {},
   "outputs": [
    {
     "name": "stdout",
     "output_type": "stream",
     "text": [
      "(335475, 5)\n",
      "(76971, 3)\n"
     ]
    }
   ],
   "source": [
    "print(train_data.shape)\n",
    "print(test_data.shape)"
   ]
  },
  {
   "cell_type": "code",
   "execution_count": 12,
   "metadata": {},
   "outputs": [],
   "source": [
    "test_data['user_id_encoded'] = user_encoder.transform(test_data['user_id'])\n",
    "test_data['business_id_encoded'] = business_encoder.transform(test_data['business_id'])"
   ]
  },
  {
   "cell_type": "code",
   "execution_count": 13,
   "metadata": {},
   "outputs": [
    {
     "data": {
      "text/html": [
       "<div>\n",
       "<style scoped>\n",
       "    .dataframe tbody tr th:only-of-type {\n",
       "        vertical-align: middle;\n",
       "    }\n",
       "\n",
       "    .dataframe tbody tr th {\n",
       "        vertical-align: top;\n",
       "    }\n",
       "\n",
       "    .dataframe thead th {\n",
       "        text-align: right;\n",
       "    }\n",
       "</style>\n",
       "<table border=\"1\" class=\"dataframe\">\n",
       "  <thead>\n",
       "    <tr style=\"text-align: right;\">\n",
       "      <th></th>\n",
       "      <th>user_id</th>\n",
       "      <th>business_id</th>\n",
       "      <th>stars</th>\n",
       "      <th>user_id_encoded</th>\n",
       "      <th>business_id_encoded</th>\n",
       "    </tr>\n",
       "  </thead>\n",
       "  <tbody>\n",
       "    <tr>\n",
       "      <th>375057</th>\n",
       "      <td>Cf8Jw9yX8RrG-l4PQoMkuw</td>\n",
       "      <td>lUHztzYjhD743ZuOQvgyMg</td>\n",
       "      <td>3</td>\n",
       "      <td>12929</td>\n",
       "      <td>2975</td>\n",
       "    </tr>\n",
       "    <tr>\n",
       "      <th>256192</th>\n",
       "      <td>USD9k93iOIB88v93B5iBcw</td>\n",
       "      <td>IjMs1n7UelI7ev_5IDl5kA</td>\n",
       "      <td>5</td>\n",
       "      <td>29574</td>\n",
       "      <td>1193</td>\n",
       "    </tr>\n",
       "    <tr>\n",
       "      <th>235870</th>\n",
       "      <td>NaGyO0mjagqD2lGNsOzzaQ</td>\n",
       "      <td>TRwPE6wsoAL6_fRaFdB4FA</td>\n",
       "      <td>5</td>\n",
       "      <td>23104</td>\n",
       "      <td>1808</td>\n",
       "    </tr>\n",
       "    <tr>\n",
       "      <th>11769</th>\n",
       "      <td>7qBgGzyf0FbHKC0jiI1J8A</td>\n",
       "      <td>99e7bysta1myyrQogFEWUQ</td>\n",
       "      <td>4</td>\n",
       "      <td>8469</td>\n",
       "      <td>610</td>\n",
       "    </tr>\n",
       "    <tr>\n",
       "      <th>196979</th>\n",
       "      <td>yoznWDhnmkKrQLk__LhnBQ</td>\n",
       "      <td>_UOg5_pk9IhKee91eWrT4A</td>\n",
       "      <td>4</td>\n",
       "      <td>59200</td>\n",
       "      <td>2220</td>\n",
       "    </tr>\n",
       "  </tbody>\n",
       "</table>\n",
       "</div>"
      ],
      "text/plain": [
       "                       user_id             business_id  stars  \\\n",
       "375057  Cf8Jw9yX8RrG-l4PQoMkuw  lUHztzYjhD743ZuOQvgyMg      3   \n",
       "256192  USD9k93iOIB88v93B5iBcw  IjMs1n7UelI7ev_5IDl5kA      5   \n",
       "235870  NaGyO0mjagqD2lGNsOzzaQ  TRwPE6wsoAL6_fRaFdB4FA      5   \n",
       "11769   7qBgGzyf0FbHKC0jiI1J8A  99e7bysta1myyrQogFEWUQ      4   \n",
       "196979  yoznWDhnmkKrQLk__LhnBQ  _UOg5_pk9IhKee91eWrT4A      4   \n",
       "\n",
       "        user_id_encoded  business_id_encoded  \n",
       "375057            12929                 2975  \n",
       "256192            29574                 1193  \n",
       "235870            23104                 1808  \n",
       "11769              8469                  610  \n",
       "196979            59200                 2220  "
      ]
     },
     "execution_count": 13,
     "metadata": {},
     "output_type": "execute_result"
    }
   ],
   "source": [
    "train_data.head()"
   ]
  },
  {
   "cell_type": "code",
   "execution_count": 14,
   "metadata": {},
   "outputs": [
    {
     "data": {
      "text/html": [
       "<div>\n",
       "<style scoped>\n",
       "    .dataframe tbody tr th:only-of-type {\n",
       "        vertical-align: middle;\n",
       "    }\n",
       "\n",
       "    .dataframe tbody tr th {\n",
       "        vertical-align: top;\n",
       "    }\n",
       "\n",
       "    .dataframe thead th {\n",
       "        text-align: right;\n",
       "    }\n",
       "</style>\n",
       "<table border=\"1\" class=\"dataframe\">\n",
       "  <thead>\n",
       "    <tr style=\"text-align: right;\">\n",
       "      <th></th>\n",
       "      <th>user_id</th>\n",
       "      <th>business_id</th>\n",
       "      <th>stars</th>\n",
       "      <th>user_id_encoded</th>\n",
       "      <th>business_id_encoded</th>\n",
       "    </tr>\n",
       "  </thead>\n",
       "  <tbody>\n",
       "    <tr>\n",
       "      <th>309565</th>\n",
       "      <td>zTwwciNRMedBvUS3-_8h6g</td>\n",
       "      <td>d48Xrx8MhGtdaLvhcYzNWQ</td>\n",
       "      <td>4</td>\n",
       "      <td>59799</td>\n",
       "      <td>2419</td>\n",
       "    </tr>\n",
       "    <tr>\n",
       "      <th>90194</th>\n",
       "      <td>WY7B-CBeLbjjDBr73l4k-A</td>\n",
       "      <td>fEqiXG_B-fn__w0aeF3nBQ</td>\n",
       "      <td>5</td>\n",
       "      <td>31556</td>\n",
       "      <td>2558</td>\n",
       "    </tr>\n",
       "    <tr>\n",
       "      <th>167636</th>\n",
       "      <td>3Zl3RokY8eyRJQbbQmuOuA</td>\n",
       "      <td>F7fC4dZW17muSvE8ixaXkQ</td>\n",
       "      <td>2</td>\n",
       "      <td>4372</td>\n",
       "      <td>983</td>\n",
       "    </tr>\n",
       "    <tr>\n",
       "      <th>107314</th>\n",
       "      <td>LBgWS6FR9sHxiiHm7z7kZg</td>\n",
       "      <td>iWy6Wft0MMO9Ud2wM93frg</td>\n",
       "      <td>5</td>\n",
       "      <td>20942</td>\n",
       "      <td>2772</td>\n",
       "    </tr>\n",
       "    <tr>\n",
       "      <th>345401</th>\n",
       "      <td>wsdtHpgw45hpju4mREenoQ</td>\n",
       "      <td>7HE_mWkvZ8GxsP0sLP-_ng</td>\n",
       "      <td>4</td>\n",
       "      <td>57366</td>\n",
       "      <td>490</td>\n",
       "    </tr>\n",
       "  </tbody>\n",
       "</table>\n",
       "</div>"
      ],
      "text/plain": [
       "                       user_id             business_id  stars  \\\n",
       "309565  zTwwciNRMedBvUS3-_8h6g  d48Xrx8MhGtdaLvhcYzNWQ      4   \n",
       "90194   WY7B-CBeLbjjDBr73l4k-A  fEqiXG_B-fn__w0aeF3nBQ      5   \n",
       "167636  3Zl3RokY8eyRJQbbQmuOuA  F7fC4dZW17muSvE8ixaXkQ      2   \n",
       "107314  LBgWS6FR9sHxiiHm7z7kZg  iWy6Wft0MMO9Ud2wM93frg      5   \n",
       "345401  wsdtHpgw45hpju4mREenoQ  7HE_mWkvZ8GxsP0sLP-_ng      4   \n",
       "\n",
       "        user_id_encoded  business_id_encoded  \n",
       "309565            59799                 2419  \n",
       "90194             31556                 2558  \n",
       "167636             4372                  983  \n",
       "107314            20942                 2772  \n",
       "345401            57366                  490  "
      ]
     },
     "execution_count": 14,
     "metadata": {},
     "output_type": "execute_result"
    }
   ],
   "source": [
    "test_data.head()"
   ]
  },
  {
   "cell_type": "code",
   "execution_count": 15,
   "metadata": {},
   "outputs": [
    {
     "name": "stdout",
     "output_type": "stream",
     "text": [
      "GPU device found: /device:GPU:0\n"
     ]
    }
   ],
   "source": [
    "if tf.test.gpu_device_name():\n",
    "    print('GPU device found: {}'.format(tf.test.gpu_device_name()))\n",
    "else:\n",
    "    print(\"No GPU device found. Training on CPU.\")"
   ]
  },
  {
   "cell_type": "code",
   "execution_count": 16,
   "metadata": {},
   "outputs": [
    {
     "name": "stdout",
     "output_type": "stream",
     "text": [
      "Unique Users: 60241, Unique Businesses: 3829\n"
     ]
    }
   ],
   "source": [
    "num_users = len(user_encoder.classes_)\n",
    "num_businesses = len(business_encoder.classes_)\n",
    "\n",
    "print(f\"Unique Users: {num_users}, Unique Businesses: {num_businesses}\")"
   ]
  },
  {
   "cell_type": "code",
   "execution_count": 21,
   "metadata": {},
   "outputs": [
    {
     "name": "stdout",
     "output_type": "stream",
     "text": [
      "Model: \"model_1\"\n",
      "__________________________________________________________________________________________________\n",
      " Layer (type)                   Output Shape         Param #     Connected to                     \n",
      "==================================================================================================\n",
      " user_input (InputLayer)        [(None, 1)]          0           []                               \n",
      "                                                                                                  \n",
      " business_input (InputLayer)    [(None, 1)]          0           []                               \n",
      "                                                                                                  \n",
      " embedding_2 (Embedding)        (None, 1, 50)        3012050     ['user_input[0][0]']             \n",
      "                                                                                                  \n",
      " embedding_3 (Embedding)        (None, 1, 50)        191450      ['business_input[0][0]']         \n",
      "                                                                                                  \n",
      " flatten_2 (Flatten)            (None, 50)           0           ['embedding_2[0][0]']            \n",
      "                                                                                                  \n",
      " flatten_3 (Flatten)            (None, 50)           0           ['embedding_3[0][0]']            \n",
      "                                                                                                  \n",
      " concatenate_1 (Concatenate)    (None, 100)          0           ['flatten_2[0][0]',              \n",
      "                                                                  'flatten_3[0][0]']              \n",
      "                                                                                                  \n",
      " dense_2 (Dense)                (None, 64)           6464        ['concatenate_1[0][0]']          \n",
      "                                                                                                  \n",
      " dense_3 (Dense)                (None, 1)            65          ['dense_2[0][0]']                \n",
      "                                                                                                  \n",
      "==================================================================================================\n",
      "Total params: 3,210,029\n",
      "Trainable params: 3,210,029\n",
      "Non-trainable params: 0\n",
      "__________________________________________________________________________________________________\n"
     ]
    }
   ],
   "source": [
    "embedding_dim=50\n",
    "\n",
    "# User and business input layers\n",
    "user_input = Input(shape=(1,), name='user_input')\n",
    "business_input = Input(shape=(1,), name='business_input')\n",
    "\n",
    "# Embedding layers for user and business IDs\n",
    "user_embedding = Embedding(input_dim=num_users, output_dim=embedding_dim)(user_input)\n",
    "business_embedding = Embedding(input_dim=num_businesses, output_dim=embedding_dim)(business_input)\n",
    "\n",
    "# Flatten the embeddings\n",
    "user_flatten = Flatten()(user_embedding)\n",
    "business_flatten = Flatten()(business_embedding)\n",
    "\n",
    "# Merge the embeddings using concat\n",
    "merged = Concatenate()([user_flatten, business_flatten])\n",
    "\n",
    "# Add some dense layers for additional modeling\n",
    "dense_layer = Dense(64, activation='relu')(merged)\n",
    "output_layer = Dense(1, activation='linear')(dense_layer)\n",
    "\n",
    "model = Model(inputs=[user_input, business_input], outputs=output_layer)\n",
    "model.compile(loss='mean_squared_error', optimizer='adam', metrics=['mae'])\n",
    "model.summary()"
   ]
  },
  {
   "cell_type": "code",
   "execution_count": 22,
   "metadata": {},
   "outputs": [],
   "source": [
    "batch_size = 128\n",
    "epochs = 20\n",
    "\n",
    "user_ids = train_data['user_id_encoded'].values\n",
    "business_ids = train_data['business_id_encoded'].values\n",
    "stars = train_data['stars'].values"
   ]
  },
  {
   "cell_type": "code",
   "execution_count": 23,
   "metadata": {},
   "outputs": [],
   "source": [
    "model_checkpoint = ModelCheckpoint(f'../saved/model_weights.h5',\n",
    "                             monitor='val_loss',   # Monitor validation loss\n",
    "                             save_best_only=True,  # Save only the best model\n",
    "                             save_weights_only=True,\n",
    "                             mode='min'            # Mode of monitoring (minimize validation loss)\n",
    "                            )\n",
    "\n",
    "early_stopping = EarlyStopping(monitor='val_loss',\n",
    "                               patience=5,\n",
    "                               restore_best_weights=True\n",
    "                              )"
   ]
  },
  {
   "cell_type": "code",
   "execution_count": 24,
   "metadata": {},
   "outputs": [
    {
     "name": "stdout",
     "output_type": "stream",
     "text": [
      "Epoch 1/20\n",
      "2097/2097 [==============================] - 18s 8ms/step - loss: 1.7059 - mae: 0.9729 - val_loss: 1.0521 - val_mae: 0.8048\n",
      "Epoch 2/20\n",
      "2097/2097 [==============================] - 18s 8ms/step - loss: 0.9678 - mae: 0.7640 - val_loss: 1.0517 - val_mae: 0.8048\n",
      "Epoch 3/20\n",
      "2097/2097 [==============================] - 17s 8ms/step - loss: 0.8838 - mae: 0.7204 - val_loss: 1.0662 - val_mae: 0.7984\n",
      "Epoch 4/20\n",
      "2097/2097 [==============================] - 17s 8ms/step - loss: 0.8150 - mae: 0.6822 - val_loss: 1.0929 - val_mae: 0.8000\n",
      "Epoch 5/20\n",
      "2097/2097 [==============================] - 17s 8ms/step - loss: 0.7549 - mae: 0.6479 - val_loss: 1.1316 - val_mae: 0.8156\n",
      "Epoch 6/20\n",
      "2097/2097 [==============================] - 17s 8ms/step - loss: 0.6998 - mae: 0.6161 - val_loss: 1.1547 - val_mae: 0.8261\n",
      "Epoch 7/20\n",
      "2097/2097 [==============================] - 17s 8ms/step - loss: 0.6472 - mae: 0.5886 - val_loss: 1.1907 - val_mae: 0.8359\n"
     ]
    }
   ],
   "source": [
    "history = model.fit(\n",
    "    [user_ids, business_ids],\n",
    "    stars,\n",
    "    batch_size=batch_size,\n",
    "    epochs=epochs,\n",
    "    validation_split=0.2,\n",
    "    callbacks=[early_stopping, model_checkpoint]\n",
    ")"
   ]
  },
  {
   "cell_type": "code",
   "execution_count": null,
   "metadata": {},
   "outputs": [],
   "source": []
  },
  {
   "cell_type": "code",
   "execution_count": 25,
   "metadata": {},
   "outputs": [
    {
     "data": {
      "text/html": [
       "<div>\n",
       "<style scoped>\n",
       "    .dataframe tbody tr th:only-of-type {\n",
       "        vertical-align: middle;\n",
       "    }\n",
       "\n",
       "    .dataframe tbody tr th {\n",
       "        vertical-align: top;\n",
       "    }\n",
       "\n",
       "    .dataframe thead th {\n",
       "        text-align: right;\n",
       "    }\n",
       "</style>\n",
       "<table border=\"1\" class=\"dataframe\">\n",
       "  <thead>\n",
       "    <tr style=\"text-align: right;\">\n",
       "      <th></th>\n",
       "      <th>user_id</th>\n",
       "      <th>business_id</th>\n",
       "      <th>stars</th>\n",
       "      <th>user_id_encoded</th>\n",
       "      <th>business_id_encoded</th>\n",
       "    </tr>\n",
       "  </thead>\n",
       "  <tbody>\n",
       "    <tr>\n",
       "      <th>309565</th>\n",
       "      <td>zTwwciNRMedBvUS3-_8h6g</td>\n",
       "      <td>d48Xrx8MhGtdaLvhcYzNWQ</td>\n",
       "      <td>4</td>\n",
       "      <td>59799</td>\n",
       "      <td>2419</td>\n",
       "    </tr>\n",
       "    <tr>\n",
       "      <th>90194</th>\n",
       "      <td>WY7B-CBeLbjjDBr73l4k-A</td>\n",
       "      <td>fEqiXG_B-fn__w0aeF3nBQ</td>\n",
       "      <td>5</td>\n",
       "      <td>31556</td>\n",
       "      <td>2558</td>\n",
       "    </tr>\n",
       "    <tr>\n",
       "      <th>167636</th>\n",
       "      <td>3Zl3RokY8eyRJQbbQmuOuA</td>\n",
       "      <td>F7fC4dZW17muSvE8ixaXkQ</td>\n",
       "      <td>2</td>\n",
       "      <td>4372</td>\n",
       "      <td>983</td>\n",
       "    </tr>\n",
       "    <tr>\n",
       "      <th>107314</th>\n",
       "      <td>LBgWS6FR9sHxiiHm7z7kZg</td>\n",
       "      <td>iWy6Wft0MMO9Ud2wM93frg</td>\n",
       "      <td>5</td>\n",
       "      <td>20942</td>\n",
       "      <td>2772</td>\n",
       "    </tr>\n",
       "    <tr>\n",
       "      <th>345401</th>\n",
       "      <td>wsdtHpgw45hpju4mREenoQ</td>\n",
       "      <td>7HE_mWkvZ8GxsP0sLP-_ng</td>\n",
       "      <td>4</td>\n",
       "      <td>57366</td>\n",
       "      <td>490</td>\n",
       "    </tr>\n",
       "  </tbody>\n",
       "</table>\n",
       "</div>"
      ],
      "text/plain": [
       "                       user_id             business_id  stars  \\\n",
       "309565  zTwwciNRMedBvUS3-_8h6g  d48Xrx8MhGtdaLvhcYzNWQ      4   \n",
       "90194   WY7B-CBeLbjjDBr73l4k-A  fEqiXG_B-fn__w0aeF3nBQ      5   \n",
       "167636  3Zl3RokY8eyRJQbbQmuOuA  F7fC4dZW17muSvE8ixaXkQ      2   \n",
       "107314  LBgWS6FR9sHxiiHm7z7kZg  iWy6Wft0MMO9Ud2wM93frg      5   \n",
       "345401  wsdtHpgw45hpju4mREenoQ  7HE_mWkvZ8GxsP0sLP-_ng      4   \n",
       "\n",
       "        user_id_encoded  business_id_encoded  \n",
       "309565            59799                 2419  \n",
       "90194             31556                 2558  \n",
       "167636             4372                  983  \n",
       "107314            20942                 2772  \n",
       "345401            57366                  490  "
      ]
     },
     "execution_count": 25,
     "metadata": {},
     "output_type": "execute_result"
    }
   ],
   "source": [
    "test_data.head()"
   ]
  },
  {
   "cell_type": "code",
   "execution_count": 26,
   "metadata": {},
   "outputs": [],
   "source": [
    "test_user_ids = test_data['user_id_encoded'].values\n",
    "test_business_ids = test_data['business_id_encoded'].values\n",
    "test_stars = test_data['stars'].values"
   ]
  },
  {
   "cell_type": "code",
   "execution_count": 27,
   "metadata": {},
   "outputs": [],
   "source": [
    "predictions = model.predict([test_user_ids, test_business_ids])"
   ]
  },
  {
   "cell_type": "code",
   "execution_count": 28,
   "metadata": {},
   "outputs": [
    {
     "data": {
      "text/plain": [
       "(0.9913414, 5.2857676)"
      ]
     },
     "execution_count": 28,
     "metadata": {},
     "output_type": "execute_result"
    }
   ],
   "source": [
    "predictions.min(), predictions.max()"
   ]
  },
  {
   "cell_type": "code",
   "execution_count": 29,
   "metadata": {},
   "outputs": [
    {
     "data": {
      "text/plain": [
       "1.0379827003781854"
      ]
     },
     "execution_count": 29,
     "metadata": {},
     "output_type": "execute_result"
    }
   ],
   "source": [
    "mean_squared_error(predictions,test_stars)"
   ]
  },
  {
   "cell_type": "code",
   "execution_count": 32,
   "metadata": {},
   "outputs": [
    {
     "data": {
      "text/plain": [
       "array([[3.0794566]], dtype=float32)"
      ]
     },
     "execution_count": 32,
     "metadata": {},
     "output_type": "execute_result"
    }
   ],
   "source": [
    "model.predict([np.array([4372]), np.array([983])])"
   ]
  },
  {
   "cell_type": "code",
   "execution_count": null,
   "metadata": {},
   "outputs": [],
   "source": []
  },
  {
   "cell_type": "code",
   "execution_count": null,
   "metadata": {},
   "outputs": [],
   "source": [
    "988309\t79658\n",
    "1\tuf6Nq_CanHaEn8h5XM4l_Q\t1wKbk-FtJBBidd1k8s09DA\t5\t1600928\t7044\n",
    "2\tP-Fv4Mm56a2wTEsA34JMew\t7l7XOid3zqMgq-Of281Qww\t5\t710613\t20834\n",
    "3\t-YEfO7S7324NPQqhka0lBA\tDE5YBg3Hry6zigdS_oSRNQ\t5\t14887\t33670\n",
    "4\tt1IKpp6jkLdZn93RqLJnIw\t1pDauBMngzqWG4ZTPMEY1Q\t5\t1556333\t6812\n",
    "...\t...\t...\t...\t...\t...\n",
    "1140169\tePmanjMTkYwpO65_9_fwQA\thOupS2QRNIuMLfcpOqC0oA\t5\t1157644\t106446\n",
    "1140170\tHfGKgfULfqWkfPvB_3299Q\tDRr5xdfHtqgWfhmdTU1B8Q\t3\t510637\t34178\n",
    "1140171\te13v69_97zYfuET0yvhhsQ\t66Xlt-k1ZhVVq1ql6fX30A\t5\t1147048\t16912\n",
    "1140172\tX1nvKXUJ5Lp3W9Oe-_JrMQ\te6DF-FlJ-BXf1vetAkr3Tg\t5\t929471\t98601\n",
    "1140173\taPqxf2vDDOIFkbdxHCIIXA\twa9tG3QDiR5Qx8P_5oIwdQ\t3\t1048601\t142304"
   ]
  }
 ],
 "metadata": {
  "kernelspec": {
   "display_name": "Python 3",
   "language": "python",
   "name": "python3"
  },
  "language_info": {
   "codemirror_mode": {
    "name": "ipython",
    "version": 3
   },
   "file_extension": ".py",
   "mimetype": "text/x-python",
   "name": "python",
   "nbconvert_exporter": "python",
   "pygments_lexer": "ipython3",
   "version": "3.7.4"
  }
 },
 "nbformat": 4,
 "nbformat_minor": 4
}
