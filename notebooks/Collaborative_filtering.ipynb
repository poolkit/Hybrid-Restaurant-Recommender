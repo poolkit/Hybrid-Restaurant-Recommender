{
 "cells": [
  {
   "cell_type": "code",
   "execution_count": 20,
   "metadata": {},
   "outputs": [],
   "source": [
    "import pandas as pd\n",
    "import numpy as np\n",
    "import matplotlib.pyplot as plt\n",
    "import hashlib\n",
    "\n",
    "from sklearn.preprocessing import LabelEncoder\n",
    "from sklearn.model_selection import train_test_split, GridSearchCV\n",
    "from sklearn.metrics import mean_squared_error, mean_absolute_error\n",
    "\n",
    "import tensorflow as tf\n",
    "from tensorflow.keras.layers import Embedding, Flatten, Input, Dot, Concatenate, Dense, Dropout, BatchNormalization\n",
    "from tensorflow.keras.models import Model, load_model\n",
    "from tensorflow.keras.regularizers import l2\n",
    "from tensorflow.keras.callbacks import EarlyStopping, ModelCheckpoint\n",
    "\n",
    "pd.set_option('display.max_columns', None)"
   ]
  },
  {
   "cell_type": "code",
   "execution_count": 2,
   "metadata": {},
   "outputs": [],
   "source": [
    "reviews = pd.read_csv('../dataset/processed/reviews.csv')"
   ]
  },
  {
   "cell_type": "code",
   "execution_count": 3,
   "metadata": {},
   "outputs": [
    {
     "name": "stdout",
     "output_type": "stream",
     "text": [
      "<class 'pandas.core.frame.DataFrame'>\n",
      "RangeIndex: 419344 entries, 0 to 419343\n",
      "Data columns (total 3 columns):\n",
      " #   Column       Non-Null Count   Dtype \n",
      "---  ------       --------------   ----- \n",
      " 0   user_id      419344 non-null  object\n",
      " 1   business_id  419344 non-null  object\n",
      " 2   stars        419344 non-null  int64 \n",
      "dtypes: int64(1), object(2)\n",
      "memory usage: 9.6+ MB\n"
     ]
    }
   ],
   "source": [
    "reviews.info()"
   ]
  },
  {
   "cell_type": "code",
   "execution_count": 4,
   "metadata": {},
   "outputs": [],
   "source": [
    "reviews = reviews.drop_duplicates()"
   ]
  },
  {
   "cell_type": "code",
   "execution_count": 5,
   "metadata": {},
   "outputs": [
    {
     "data": {
      "text/html": [
       "<div>\n",
       "<style scoped>\n",
       "    .dataframe tbody tr th:only-of-type {\n",
       "        vertical-align: middle;\n",
       "    }\n",
       "\n",
       "    .dataframe tbody tr th {\n",
       "        vertical-align: top;\n",
       "    }\n",
       "\n",
       "    .dataframe thead th {\n",
       "        text-align: right;\n",
       "    }\n",
       "</style>\n",
       "<table border=\"1\" class=\"dataframe\">\n",
       "  <thead>\n",
       "    <tr style=\"text-align: right;\">\n",
       "      <th></th>\n",
       "      <th>user_id</th>\n",
       "      <th>business_id</th>\n",
       "      <th>stars</th>\n",
       "    </tr>\n",
       "  </thead>\n",
       "  <tbody>\n",
       "    <tr>\n",
       "      <th>0</th>\n",
       "      <td>mh_-eMZ6K5RLWhZyISBhwA</td>\n",
       "      <td>d_tRshM-w6S4QxE4VVi8tQ</td>\n",
       "      <td>3</td>\n",
       "    </tr>\n",
       "    <tr>\n",
       "      <th>1</th>\n",
       "      <td>Zs8Zk3sgh5JxRmoZW4PJcg</td>\n",
       "      <td>d_tRshM-w6S4QxE4VVi8tQ</td>\n",
       "      <td>2</td>\n",
       "    </tr>\n",
       "    <tr>\n",
       "      <th>2</th>\n",
       "      <td>OkjeFppodgJP_CvB84cJYw</td>\n",
       "      <td>d_tRshM-w6S4QxE4VVi8tQ</td>\n",
       "      <td>3</td>\n",
       "    </tr>\n",
       "    <tr>\n",
       "      <th>3</th>\n",
       "      <td>11xwVSDv1ytjcyvUiyBWaw</td>\n",
       "      <td>d_tRshM-w6S4QxE4VVi8tQ</td>\n",
       "      <td>4</td>\n",
       "    </tr>\n",
       "    <tr>\n",
       "      <th>4</th>\n",
       "      <td>8EMU7d4pCkdqUnvlIW40CA</td>\n",
       "      <td>d_tRshM-w6S4QxE4VVi8tQ</td>\n",
       "      <td>4</td>\n",
       "    </tr>\n",
       "  </tbody>\n",
       "</table>\n",
       "</div>"
      ],
      "text/plain": [
       "                  user_id             business_id  stars\n",
       "0  mh_-eMZ6K5RLWhZyISBhwA  d_tRshM-w6S4QxE4VVi8tQ      3\n",
       "1  Zs8Zk3sgh5JxRmoZW4PJcg  d_tRshM-w6S4QxE4VVi8tQ      2\n",
       "2  OkjeFppodgJP_CvB84cJYw  d_tRshM-w6S4QxE4VVi8tQ      3\n",
       "3  11xwVSDv1ytjcyvUiyBWaw  d_tRshM-w6S4QxE4VVi8tQ      4\n",
       "4  8EMU7d4pCkdqUnvlIW40CA  d_tRshM-w6S4QxE4VVi8tQ      4"
      ]
     },
     "execution_count": 5,
     "metadata": {},
     "output_type": "execute_result"
    }
   ],
   "source": [
    "reviews.head()"
   ]
  },
  {
   "cell_type": "code",
   "execution_count": 6,
   "metadata": {},
   "outputs": [
    {
     "name": "stdout",
     "output_type": "stream",
     "text": [
      "Wall time: 57.9 ms\n"
     ]
    }
   ],
   "source": [
    "%%time\n",
    "train_data, test_data = train_test_split(reviews, test_size=0.2)"
   ]
  },
  {
   "cell_type": "code",
   "execution_count": 7,
   "metadata": {},
   "outputs": [
    {
     "name": "stdout",
     "output_type": "stream",
     "text": [
      "(328840, 3)\n",
      "(82211, 3)\n"
     ]
    }
   ],
   "source": [
    "print(train_data.shape)\n",
    "print(test_data.shape)"
   ]
  },
  {
   "cell_type": "code",
   "execution_count": 8,
   "metadata": {},
   "outputs": [
    {
     "name": "stdout",
     "output_type": "stream",
     "text": [
      "Wall time: 269 ms\n"
     ]
    }
   ],
   "source": [
    "%%time\n",
    "user_encoder = LabelEncoder()\n",
    "business_encoder = LabelEncoder()\n",
    "\n",
    "train_data['user_id_encoded'] = user_encoder.fit_transform(train_data['user_id'])\n",
    "train_data['business_id_encoded'] = business_encoder.fit_transform(train_data['business_id'])"
   ]
  },
  {
   "cell_type": "code",
   "execution_count": 9,
   "metadata": {},
   "outputs": [
    {
     "data": {
      "text/plain": [
       "(60247, 3829)"
      ]
     },
     "execution_count": 9,
     "metadata": {},
     "output_type": "execute_result"
    }
   ],
   "source": [
    "len(user_encoder.classes_), len(business_encoder.classes_)"
   ]
  },
  {
   "cell_type": "code",
   "execution_count": 10,
   "metadata": {},
   "outputs": [],
   "source": [
    "test_data = test_data[test_data['user_id'].isin(user_encoder.classes_)]\n",
    "test_data = test_data[test_data['business_id'].isin(business_encoder.classes_)]"
   ]
  },
  {
   "cell_type": "code",
   "execution_count": 11,
   "metadata": {},
   "outputs": [
    {
     "name": "stdout",
     "output_type": "stream",
     "text": [
      "(328840, 5)\n",
      "(75334, 3)\n"
     ]
    }
   ],
   "source": [
    "print(train_data.shape)\n",
    "print(test_data.shape)"
   ]
  },
  {
   "cell_type": "code",
   "execution_count": 12,
   "metadata": {},
   "outputs": [],
   "source": [
    "test_data['user_id_encoded'] = user_encoder.transform(test_data['user_id'])\n",
    "test_data['business_id_encoded'] = business_encoder.transform(test_data['business_id'])"
   ]
  },
  {
   "cell_type": "code",
   "execution_count": 13,
   "metadata": {},
   "outputs": [
    {
     "data": {
      "text/html": [
       "<div>\n",
       "<style scoped>\n",
       "    .dataframe tbody tr th:only-of-type {\n",
       "        vertical-align: middle;\n",
       "    }\n",
       "\n",
       "    .dataframe tbody tr th {\n",
       "        vertical-align: top;\n",
       "    }\n",
       "\n",
       "    .dataframe thead th {\n",
       "        text-align: right;\n",
       "    }\n",
       "</style>\n",
       "<table border=\"1\" class=\"dataframe\">\n",
       "  <thead>\n",
       "    <tr style=\"text-align: right;\">\n",
       "      <th></th>\n",
       "      <th>user_id</th>\n",
       "      <th>business_id</th>\n",
       "      <th>stars</th>\n",
       "      <th>user_id_encoded</th>\n",
       "      <th>business_id_encoded</th>\n",
       "    </tr>\n",
       "  </thead>\n",
       "  <tbody>\n",
       "    <tr>\n",
       "      <th>138096</th>\n",
       "      <td>rd0J9qgJsrU7YnfzLb1eQw</td>\n",
       "      <td>ZVu9TDpTvIgCN8x6IY-KmA</td>\n",
       "      <td>4</td>\n",
       "      <td>52419</td>\n",
       "      <td>2162</td>\n",
       "    </tr>\n",
       "    <tr>\n",
       "      <th>20344</th>\n",
       "      <td>Ns_Cq1zqqCcZgZaso7pVYg</td>\n",
       "      <td>wB1Tin0OW1JRpaKM-E3ZYA</td>\n",
       "      <td>2</td>\n",
       "      <td>23392</td>\n",
       "      <td>3596</td>\n",
       "    </tr>\n",
       "    <tr>\n",
       "      <th>146692</th>\n",
       "      <td>oSxIj3EYDFPNUNGsbuqdVQ</td>\n",
       "      <td>TunmRrfZb7bt53T6HJi4UQ</td>\n",
       "      <td>5</td>\n",
       "      <td>49436</td>\n",
       "      <td>1838</td>\n",
       "    </tr>\n",
       "    <tr>\n",
       "      <th>228540</th>\n",
       "      <td>wqZuEnMGBKnpYIpg7dFLfg</td>\n",
       "      <td>JUlsvVAvZvGHWFfkKm0nlg</td>\n",
       "      <td>4</td>\n",
       "      <td>57364</td>\n",
       "      <td>1243</td>\n",
       "    </tr>\n",
       "    <tr>\n",
       "      <th>144429</th>\n",
       "      <td>WIdUAxJqXKp2imC_BfcxMg</td>\n",
       "      <td>K8b2MQ5Az59-nzvqUfjJEQ</td>\n",
       "      <td>4</td>\n",
       "      <td>31344</td>\n",
       "      <td>1287</td>\n",
       "    </tr>\n",
       "  </tbody>\n",
       "</table>\n",
       "</div>"
      ],
      "text/plain": [
       "                       user_id             business_id  stars  \\\n",
       "138096  rd0J9qgJsrU7YnfzLb1eQw  ZVu9TDpTvIgCN8x6IY-KmA      4   \n",
       "20344   Ns_Cq1zqqCcZgZaso7pVYg  wB1Tin0OW1JRpaKM-E3ZYA      2   \n",
       "146692  oSxIj3EYDFPNUNGsbuqdVQ  TunmRrfZb7bt53T6HJi4UQ      5   \n",
       "228540  wqZuEnMGBKnpYIpg7dFLfg  JUlsvVAvZvGHWFfkKm0nlg      4   \n",
       "144429  WIdUAxJqXKp2imC_BfcxMg  K8b2MQ5Az59-nzvqUfjJEQ      4   \n",
       "\n",
       "        user_id_encoded  business_id_encoded  \n",
       "138096            52419                 2162  \n",
       "20344             23392                 3596  \n",
       "146692            49436                 1838  \n",
       "228540            57364                 1243  \n",
       "144429            31344                 1287  "
      ]
     },
     "execution_count": 13,
     "metadata": {},
     "output_type": "execute_result"
    }
   ],
   "source": [
    "train_data.head()"
   ]
  },
  {
   "cell_type": "code",
   "execution_count": 14,
   "metadata": {},
   "outputs": [
    {
     "data": {
      "text/html": [
       "<div>\n",
       "<style scoped>\n",
       "    .dataframe tbody tr th:only-of-type {\n",
       "        vertical-align: middle;\n",
       "    }\n",
       "\n",
       "    .dataframe tbody tr th {\n",
       "        vertical-align: top;\n",
       "    }\n",
       "\n",
       "    .dataframe thead th {\n",
       "        text-align: right;\n",
       "    }\n",
       "</style>\n",
       "<table border=\"1\" class=\"dataframe\">\n",
       "  <thead>\n",
       "    <tr style=\"text-align: right;\">\n",
       "      <th></th>\n",
       "      <th>user_id</th>\n",
       "      <th>business_id</th>\n",
       "      <th>stars</th>\n",
       "      <th>user_id_encoded</th>\n",
       "      <th>business_id_encoded</th>\n",
       "    </tr>\n",
       "  </thead>\n",
       "  <tbody>\n",
       "    <tr>\n",
       "      <th>112983</th>\n",
       "      <td>K0PbqtUJuUjDFRTCHsVZdw</td>\n",
       "      <td>WxB8498ejPtHE7wFa89_fA</td>\n",
       "      <td>5</td>\n",
       "      <td>19884</td>\n",
       "      <td>2024</td>\n",
       "    </tr>\n",
       "    <tr>\n",
       "      <th>352607</th>\n",
       "      <td>NdO0g4wsb6WRQD3_7YUfCQ</td>\n",
       "      <td>9PCiyXCG25bOycCR7nXIDw</td>\n",
       "      <td>3</td>\n",
       "      <td>23163</td>\n",
       "      <td>624</td>\n",
       "    </tr>\n",
       "    <tr>\n",
       "      <th>162838</th>\n",
       "      <td>cg1AJDNjH9wHD8qhpeFQbg</td>\n",
       "      <td>atZ_olNKXOG4rEr6mccN8g</td>\n",
       "      <td>2</td>\n",
       "      <td>38299</td>\n",
       "      <td>2289</td>\n",
       "    </tr>\n",
       "    <tr>\n",
       "      <th>46547</th>\n",
       "      <td>4ze88V1brgv5slnpZ1Q4gw</td>\n",
       "      <td>EI2_OgANt1Mb_83cNnpPwg</td>\n",
       "      <td>3</td>\n",
       "      <td>5717</td>\n",
       "      <td>931</td>\n",
       "    </tr>\n",
       "    <tr>\n",
       "      <th>214128</th>\n",
       "      <td>VKygLdqTGjOUvgxJgbQkkA</td>\n",
       "      <td>E_h2yNoagLK-3ODYwMPErw</td>\n",
       "      <td>5</td>\n",
       "      <td>30444</td>\n",
       "      <td>947</td>\n",
       "    </tr>\n",
       "  </tbody>\n",
       "</table>\n",
       "</div>"
      ],
      "text/plain": [
       "                       user_id             business_id  stars  \\\n",
       "112983  K0PbqtUJuUjDFRTCHsVZdw  WxB8498ejPtHE7wFa89_fA      5   \n",
       "352607  NdO0g4wsb6WRQD3_7YUfCQ  9PCiyXCG25bOycCR7nXIDw      3   \n",
       "162838  cg1AJDNjH9wHD8qhpeFQbg  atZ_olNKXOG4rEr6mccN8g      2   \n",
       "46547   4ze88V1brgv5slnpZ1Q4gw  EI2_OgANt1Mb_83cNnpPwg      3   \n",
       "214128  VKygLdqTGjOUvgxJgbQkkA  E_h2yNoagLK-3ODYwMPErw      5   \n",
       "\n",
       "        user_id_encoded  business_id_encoded  \n",
       "112983            19884                 2024  \n",
       "352607            23163                  624  \n",
       "162838            38299                 2289  \n",
       "46547              5717                  931  \n",
       "214128            30444                  947  "
      ]
     },
     "execution_count": 14,
     "metadata": {},
     "output_type": "execute_result"
    }
   ],
   "source": [
    "test_data.head()"
   ]
  },
  {
   "cell_type": "code",
   "execution_count": 15,
   "metadata": {},
   "outputs": [
    {
     "name": "stdout",
     "output_type": "stream",
     "text": [
      "GPU device found: /device:GPU:0\n"
     ]
    }
   ],
   "source": [
    "if tf.test.gpu_device_name():\n",
    "    print('GPU device found: {}'.format(tf.test.gpu_device_name()))\n",
    "else:\n",
    "    print(\"No GPU device found. Training on CPU.\")"
   ]
  },
  {
   "cell_type": "code",
   "execution_count": 16,
   "metadata": {},
   "outputs": [
    {
     "name": "stdout",
     "output_type": "stream",
     "text": [
      "Unique Users: 60247, Unique Businesses: 3829\n"
     ]
    }
   ],
   "source": [
    "num_users = len(user_encoder.classes_)\n",
    "num_businesses = len(business_encoder.classes_)\n",
    "\n",
    "print(f\"Unique Users: {num_users}, Unique Businesses: {num_businesses}\")"
   ]
  },
  {
   "cell_type": "code",
   "execution_count": 40,
   "metadata": {},
   "outputs": [
    {
     "name": "stdout",
     "output_type": "stream",
     "text": [
      "Model: \"model_3\"\n",
      "__________________________________________________________________________________________________\n",
      " Layer (type)                   Output Shape         Param #     Connected to                     \n",
      "==================================================================================================\n",
      " user_input (InputLayer)        [(None, 1)]          0           []                               \n",
      "                                                                                                  \n",
      " business_input (InputLayer)    [(None, 1)]          0           []                               \n",
      "                                                                                                  \n",
      " embedding_6 (Embedding)        (None, 1, 32)        1927904     ['user_input[0][0]']             \n",
      "                                                                                                  \n",
      " embedding_7 (Embedding)        (None, 1, 32)        122528      ['business_input[0][0]']         \n",
      "                                                                                                  \n",
      " flatten_6 (Flatten)            (None, 32)           0           ['embedding_6[0][0]']            \n",
      "                                                                                                  \n",
      " flatten_7 (Flatten)            (None, 32)           0           ['embedding_7[0][0]']            \n",
      "                                                                                                  \n",
      " concatenate_3 (Concatenate)    (None, 64)           0           ['flatten_6[0][0]',              \n",
      "                                                                  'flatten_7[0][0]']              \n",
      "                                                                                                  \n",
      " batch_normalization_3 (BatchNo  (None, 64)          256         ['concatenate_3[0][0]']          \n",
      " rmalization)                                                                                     \n",
      "                                                                                                  \n",
      " dense_6 (Dense)                (None, 128)          8320        ['batch_normalization_3[0][0]']  \n",
      "                                                                                                  \n",
      " dropout_3 (Dropout)            (None, 128)          0           ['dense_6[0][0]']                \n",
      "                                                                                                  \n",
      " dense_7 (Dense)                (None, 1)            129         ['dropout_3[0][0]']              \n",
      "                                                                                                  \n",
      "==================================================================================================\n",
      "Total params: 2,059,137\n",
      "Trainable params: 2,059,009\n",
      "Non-trainable params: 128\n",
      "__________________________________________________________________________________________________\n"
     ]
    }
   ],
   "source": [
    "embedding_dim=32\n",
    "\n",
    "user_input = Input(shape=(1,), name='user_input')\n",
    "business_input = Input(shape=(1,), name='business_input')\n",
    "\n",
    "user_embedding = Embedding(input_dim=num_users, output_dim=embedding_dim, embeddings_regularizer=l2(1e-6))(user_input)\n",
    "business_embedding = Embedding(input_dim=num_businesses, output_dim=embedding_dim, embeddings_regularizer=l2(1e-6))(business_input)\n",
    "\n",
    "user_flatten = Flatten()(user_embedding)\n",
    "business_flatten = Flatten()(business_embedding)\n",
    "\n",
    "merged = Concatenate()([user_flatten, business_flatten])\n",
    "merged = BatchNormalization()(merged)\n",
    "\n",
    "dense_layer = Dense(128, activation='relu')(merged)\n",
    "dropout = Dropout(0.4)(dense_layer)\n",
    "output_layer = Dense(1, activation='linear')(dropout)\n",
    "\n",
    "model = Model(inputs=[user_input, business_input], outputs=output_layer)\n",
    "model.compile(loss='mean_squared_error', optimizer='adam', metrics=['mae'])\n",
    "model.summary()"
   ]
  },
  {
   "cell_type": "code",
   "execution_count": 41,
   "metadata": {},
   "outputs": [
    {
     "name": "stdout",
     "output_type": "stream",
     "text": [
      "(328840,) (328840,) (328840,)\n"
     ]
    }
   ],
   "source": [
    "batch_size = 128\n",
    "epochs = 20\n",
    "\n",
    "user_ids = train_data['user_id_encoded'].values\n",
    "business_ids = train_data['business_id_encoded'].values\n",
    "stars = train_data['stars'].values\n",
    "\n",
    "print(np.shape(user_ids), np.shape(business_ids), np.shape(stars))"
   ]
  },
  {
   "cell_type": "code",
   "execution_count": 42,
   "metadata": {},
   "outputs": [],
   "source": [
    "model_checkpoint = ModelCheckpoint(f'../saved/model_weights.h5',\n",
    "                             monitor='val_loss',   # Monitor validation loss\n",
    "                             save_best_only=True,  # Save only the best model\n",
    "                             save_weights_only=True,\n",
    "                             mode='min'            # Mode of monitoring (minimize validation loss)\n",
    "                            )\n",
    "\n",
    "early_stopping = EarlyStopping(monitor='val_loss',\n",
    "                               patience=5,\n",
    "                               restore_best_weights=True\n",
    "                              )"
   ]
  },
  {
   "cell_type": "code",
   "execution_count": 43,
   "metadata": {},
   "outputs": [
    {
     "name": "stdout",
     "output_type": "stream",
     "text": [
      "Epoch 1/20\n",
      "2056/2056 [==============================] - 19s 8ms/step - loss: 1.7192 - mae: 1.0310 - val_loss: 1.1194 - val_mae: 0.8479\n",
      "Epoch 2/20\n",
      "2056/2056 [==============================] - 16s 8ms/step - loss: 1.1168 - mae: 0.8363 - val_loss: 1.1008 - val_mae: 0.8283\n",
      "Epoch 3/20\n",
      "2056/2056 [==============================] - 15s 7ms/step - loss: 0.9653 - mae: 0.7685 - val_loss: 1.1247 - val_mae: 0.8222\n",
      "Epoch 4/20\n",
      "2056/2056 [==============================] - 15s 7ms/step - loss: 0.8417 - mae: 0.7100 - val_loss: 1.1756 - val_mae: 0.8315\n",
      "Epoch 5/20\n",
      "2056/2056 [==============================] - 15s 7ms/step - loss: 0.7339 - mae: 0.6575 - val_loss: 1.1686 - val_mae: 0.8394\n",
      "Epoch 6/20\n",
      "2056/2056 [==============================] - 15s 7ms/step - loss: 0.6523 - mae: 0.6150 - val_loss: 1.1989 - val_mae: 0.8493\n",
      "Epoch 7/20\n",
      "2056/2056 [==============================] - 15s 7ms/step - loss: 0.5929 - mae: 0.5844 - val_loss: 1.2108 - val_mae: 0.8495\n"
     ]
    }
   ],
   "source": [
    "history = model.fit(\n",
    "    [user_ids, business_ids],\n",
    "    stars,\n",
    "    batch_size=batch_size,\n",
    "    epochs=epochs,\n",
    "    validation_split=0.2,\n",
    "    callbacks=[early_stopping, model_checkpoint]\n",
    ")"
   ]
  },
  {
   "cell_type": "code",
   "execution_count": null,
   "metadata": {},
   "outputs": [],
   "source": []
  },
  {
   "cell_type": "code",
   "execution_count": 44,
   "metadata": {},
   "outputs": [
    {
     "data": {
      "text/html": [
       "<div>\n",
       "<style scoped>\n",
       "    .dataframe tbody tr th:only-of-type {\n",
       "        vertical-align: middle;\n",
       "    }\n",
       "\n",
       "    .dataframe tbody tr th {\n",
       "        vertical-align: top;\n",
       "    }\n",
       "\n",
       "    .dataframe thead th {\n",
       "        text-align: right;\n",
       "    }\n",
       "</style>\n",
       "<table border=\"1\" class=\"dataframe\">\n",
       "  <thead>\n",
       "    <tr style=\"text-align: right;\">\n",
       "      <th></th>\n",
       "      <th>user_id</th>\n",
       "      <th>business_id</th>\n",
       "      <th>stars</th>\n",
       "      <th>user_id_encoded</th>\n",
       "      <th>business_id_encoded</th>\n",
       "    </tr>\n",
       "  </thead>\n",
       "  <tbody>\n",
       "    <tr>\n",
       "      <th>112983</th>\n",
       "      <td>K0PbqtUJuUjDFRTCHsVZdw</td>\n",
       "      <td>WxB8498ejPtHE7wFa89_fA</td>\n",
       "      <td>5</td>\n",
       "      <td>19884</td>\n",
       "      <td>2024</td>\n",
       "    </tr>\n",
       "    <tr>\n",
       "      <th>352607</th>\n",
       "      <td>NdO0g4wsb6WRQD3_7YUfCQ</td>\n",
       "      <td>9PCiyXCG25bOycCR7nXIDw</td>\n",
       "      <td>3</td>\n",
       "      <td>23163</td>\n",
       "      <td>624</td>\n",
       "    </tr>\n",
       "    <tr>\n",
       "      <th>162838</th>\n",
       "      <td>cg1AJDNjH9wHD8qhpeFQbg</td>\n",
       "      <td>atZ_olNKXOG4rEr6mccN8g</td>\n",
       "      <td>2</td>\n",
       "      <td>38299</td>\n",
       "      <td>2289</td>\n",
       "    </tr>\n",
       "    <tr>\n",
       "      <th>46547</th>\n",
       "      <td>4ze88V1brgv5slnpZ1Q4gw</td>\n",
       "      <td>EI2_OgANt1Mb_83cNnpPwg</td>\n",
       "      <td>3</td>\n",
       "      <td>5717</td>\n",
       "      <td>931</td>\n",
       "    </tr>\n",
       "    <tr>\n",
       "      <th>214128</th>\n",
       "      <td>VKygLdqTGjOUvgxJgbQkkA</td>\n",
       "      <td>E_h2yNoagLK-3ODYwMPErw</td>\n",
       "      <td>5</td>\n",
       "      <td>30444</td>\n",
       "      <td>947</td>\n",
       "    </tr>\n",
       "  </tbody>\n",
       "</table>\n",
       "</div>"
      ],
      "text/plain": [
       "                       user_id             business_id  stars  \\\n",
       "112983  K0PbqtUJuUjDFRTCHsVZdw  WxB8498ejPtHE7wFa89_fA      5   \n",
       "352607  NdO0g4wsb6WRQD3_7YUfCQ  9PCiyXCG25bOycCR7nXIDw      3   \n",
       "162838  cg1AJDNjH9wHD8qhpeFQbg  atZ_olNKXOG4rEr6mccN8g      2   \n",
       "46547   4ze88V1brgv5slnpZ1Q4gw  EI2_OgANt1Mb_83cNnpPwg      3   \n",
       "214128  VKygLdqTGjOUvgxJgbQkkA  E_h2yNoagLK-3ODYwMPErw      5   \n",
       "\n",
       "        user_id_encoded  business_id_encoded  \n",
       "112983            19884                 2024  \n",
       "352607            23163                  624  \n",
       "162838            38299                 2289  \n",
       "46547              5717                  931  \n",
       "214128            30444                  947  "
      ]
     },
     "execution_count": 44,
     "metadata": {},
     "output_type": "execute_result"
    }
   ],
   "source": [
    "test_data.head()"
   ]
  },
  {
   "cell_type": "code",
   "execution_count": 45,
   "metadata": {},
   "outputs": [],
   "source": [
    "test_user_ids = test_data['user_id_encoded'].values\n",
    "test_business_ids = test_data['business_id_encoded'].values\n",
    "test_stars = test_data['stars'].values"
   ]
  },
  {
   "cell_type": "code",
   "execution_count": 46,
   "metadata": {},
   "outputs": [],
   "source": [
    "predictions = model.predict([test_user_ids, test_business_ids])"
   ]
  },
  {
   "cell_type": "code",
   "execution_count": 47,
   "metadata": {},
   "outputs": [
    {
     "data": {
      "text/plain": [
       "array([[4.3599243],\n",
       "       [3.5485072],\n",
       "       [4.489728 ],\n",
       "       ...,\n",
       "       [3.0025027],\n",
       "       [3.8101907],\n",
       "       [3.25465  ]], dtype=float32)"
      ]
     },
     "execution_count": 47,
     "metadata": {},
     "output_type": "execute_result"
    }
   ],
   "source": [
    "predictions"
   ]
  },
  {
   "cell_type": "code",
   "execution_count": 48,
   "metadata": {},
   "outputs": [
    {
     "data": {
      "text/plain": [
       "(0.47154915, 5.727051)"
      ]
     },
     "execution_count": 48,
     "metadata": {},
     "output_type": "execute_result"
    }
   ],
   "source": [
    "predictions.min(), predictions.max()"
   ]
  },
  {
   "cell_type": "code",
   "execution_count": 49,
   "metadata": {},
   "outputs": [
    {
     "data": {
      "text/plain": [
       "1.0647927059497462"
      ]
     },
     "execution_count": 49,
     "metadata": {},
     "output_type": "execute_result"
    }
   ],
   "source": [
    "mean_squared_error(predictions,test_stars)"
   ]
  },
  {
   "cell_type": "code",
   "execution_count": 50,
   "metadata": {},
   "outputs": [
    {
     "data": {
      "text/plain": [
       "0.8113899665186213"
      ]
     },
     "execution_count": 50,
     "metadata": {},
     "output_type": "execute_result"
    }
   ],
   "source": [
    "mean_absolute_error(predictions,test_stars)"
   ]
  },
  {
   "cell_type": "code",
   "execution_count": 51,
   "metadata": {},
   "outputs": [
    {
     "data": {
      "text/plain": [
       "array([[3.8836231]], dtype=float32)"
      ]
     },
     "execution_count": 51,
     "metadata": {},
     "output_type": "execute_result"
    }
   ],
   "source": [
    "model.predict([np.array([11752]), np.array([3280])])"
   ]
  },
  {
   "cell_type": "markdown",
   "metadata": {},
   "source": [
    "#### Training for entire data"
   ]
  },
  {
   "cell_type": "code",
   "execution_count": 53,
   "metadata": {},
   "outputs": [
    {
     "data": {
      "text/html": [
       "<div>\n",
       "<style scoped>\n",
       "    .dataframe tbody tr th:only-of-type {\n",
       "        vertical-align: middle;\n",
       "    }\n",
       "\n",
       "    .dataframe tbody tr th {\n",
       "        vertical-align: top;\n",
       "    }\n",
       "\n",
       "    .dataframe thead th {\n",
       "        text-align: right;\n",
       "    }\n",
       "</style>\n",
       "<table border=\"1\" class=\"dataframe\">\n",
       "  <thead>\n",
       "    <tr style=\"text-align: right;\">\n",
       "      <th></th>\n",
       "      <th>user_id</th>\n",
       "      <th>business_id</th>\n",
       "      <th>stars</th>\n",
       "    </tr>\n",
       "  </thead>\n",
       "  <tbody>\n",
       "    <tr>\n",
       "      <th>0</th>\n",
       "      <td>mh_-eMZ6K5RLWhZyISBhwA</td>\n",
       "      <td>d_tRshM-w6S4QxE4VVi8tQ</td>\n",
       "      <td>3</td>\n",
       "    </tr>\n",
       "    <tr>\n",
       "      <th>1</th>\n",
       "      <td>Zs8Zk3sgh5JxRmoZW4PJcg</td>\n",
       "      <td>d_tRshM-w6S4QxE4VVi8tQ</td>\n",
       "      <td>2</td>\n",
       "    </tr>\n",
       "    <tr>\n",
       "      <th>2</th>\n",
       "      <td>OkjeFppodgJP_CvB84cJYw</td>\n",
       "      <td>d_tRshM-w6S4QxE4VVi8tQ</td>\n",
       "      <td>3</td>\n",
       "    </tr>\n",
       "    <tr>\n",
       "      <th>3</th>\n",
       "      <td>11xwVSDv1ytjcyvUiyBWaw</td>\n",
       "      <td>d_tRshM-w6S4QxE4VVi8tQ</td>\n",
       "      <td>4</td>\n",
       "    </tr>\n",
       "    <tr>\n",
       "      <th>4</th>\n",
       "      <td>8EMU7d4pCkdqUnvlIW40CA</td>\n",
       "      <td>d_tRshM-w6S4QxE4VVi8tQ</td>\n",
       "      <td>4</td>\n",
       "    </tr>\n",
       "  </tbody>\n",
       "</table>\n",
       "</div>"
      ],
      "text/plain": [
       "                  user_id             business_id  stars\n",
       "0  mh_-eMZ6K5RLWhZyISBhwA  d_tRshM-w6S4QxE4VVi8tQ      3\n",
       "1  Zs8Zk3sgh5JxRmoZW4PJcg  d_tRshM-w6S4QxE4VVi8tQ      2\n",
       "2  OkjeFppodgJP_CvB84cJYw  d_tRshM-w6S4QxE4VVi8tQ      3\n",
       "3  11xwVSDv1ytjcyvUiyBWaw  d_tRshM-w6S4QxE4VVi8tQ      4\n",
       "4  8EMU7d4pCkdqUnvlIW40CA  d_tRshM-w6S4QxE4VVi8tQ      4"
      ]
     },
     "execution_count": 53,
     "metadata": {},
     "output_type": "execute_result"
    }
   ],
   "source": [
    "reviews.head()"
   ]
  },
  {
   "cell_type": "code",
   "execution_count": 55,
   "metadata": {},
   "outputs": [
    {
     "name": "stdout",
     "output_type": "stream",
     "text": [
      "Wall time: 313 ms\n"
     ]
    }
   ],
   "source": [
    "%%time\n",
    "user_encoder = LabelEncoder()\n",
    "business_encoder = LabelEncoder()\n",
    "\n",
    "reviews['user_id_encoded'] = user_encoder.fit_transform(reviews['user_id'])\n",
    "reviews['business_id_encoded'] = business_encoder.fit_transform(reviews['business_id'])"
   ]
  },
  {
   "cell_type": "code",
   "execution_count": 56,
   "metadata": {},
   "outputs": [
    {
     "name": "stdout",
     "output_type": "stream",
     "text": [
      "Unique Users: 66560, Unique Businesses: 3829\n"
     ]
    }
   ],
   "source": [
    "num_users = len(user_encoder.classes_)\n",
    "num_businesses = len(business_encoder.classes_)\n",
    "\n",
    "print(f\"Unique Users: {num_users}, Unique Businesses: {num_businesses}\")"
   ]
  },
  {
   "cell_type": "code",
   "execution_count": 57,
   "metadata": {},
   "outputs": [
    {
     "name": "stdout",
     "output_type": "stream",
     "text": [
      "Model: \"model_4\"\n",
      "__________________________________________________________________________________________________\n",
      " Layer (type)                   Output Shape         Param #     Connected to                     \n",
      "==================================================================================================\n",
      " user_input (InputLayer)        [(None, 1)]          0           []                               \n",
      "                                                                                                  \n",
      " business_input (InputLayer)    [(None, 1)]          0           []                               \n",
      "                                                                                                  \n",
      " embedding_8 (Embedding)        (None, 1, 32)        2129920     ['user_input[0][0]']             \n",
      "                                                                                                  \n",
      " embedding_9 (Embedding)        (None, 1, 32)        122528      ['business_input[0][0]']         \n",
      "                                                                                                  \n",
      " flatten_8 (Flatten)            (None, 32)           0           ['embedding_8[0][0]']            \n",
      "                                                                                                  \n",
      " flatten_9 (Flatten)            (None, 32)           0           ['embedding_9[0][0]']            \n",
      "                                                                                                  \n",
      " concatenate_4 (Concatenate)    (None, 64)           0           ['flatten_8[0][0]',              \n",
      "                                                                  'flatten_9[0][0]']              \n",
      "                                                                                                  \n",
      " batch_normalization_4 (BatchNo  (None, 64)          256         ['concatenate_4[0][0]']          \n",
      " rmalization)                                                                                     \n",
      "                                                                                                  \n",
      " dense_8 (Dense)                (None, 128)          8320        ['batch_normalization_4[0][0]']  \n",
      "                                                                                                  \n",
      " dropout_4 (Dropout)            (None, 128)          0           ['dense_8[0][0]']                \n",
      "                                                                                                  \n",
      " dense_9 (Dense)                (None, 1)            129         ['dropout_4[0][0]']              \n",
      "                                                                                                  \n",
      "==================================================================================================\n",
      "Total params: 2,261,153\n",
      "Trainable params: 2,261,025\n",
      "Non-trainable params: 128\n",
      "__________________________________________________________________________________________________\n"
     ]
    }
   ],
   "source": [
    "embedding_dim=32\n",
    "\n",
    "user_input = Input(shape=(1,), name='user_input')\n",
    "business_input = Input(shape=(1,), name='business_input')\n",
    "\n",
    "user_embedding = Embedding(input_dim=num_users, output_dim=embedding_dim, embeddings_regularizer=l2(1e-6))(user_input)\n",
    "business_embedding = Embedding(input_dim=num_businesses, output_dim=embedding_dim, embeddings_regularizer=l2(1e-6))(business_input)\n",
    "\n",
    "user_flatten = Flatten()(user_embedding)\n",
    "business_flatten = Flatten()(business_embedding)\n",
    "\n",
    "merged = Concatenate()([user_flatten, business_flatten])\n",
    "merged = BatchNormalization()(merged)\n",
    "\n",
    "dense_layer = Dense(128, activation='relu')(merged)\n",
    "dropout = Dropout(0.4)(dense_layer)\n",
    "output_layer = Dense(1, activation='linear')(dropout)\n",
    "\n",
    "model = Model(inputs=[user_input, business_input], outputs=output_layer)\n",
    "model.compile(loss='mean_squared_error', optimizer='adam', metrics=['mae'])\n",
    "model.summary()"
   ]
  },
  {
   "cell_type": "code",
   "execution_count": 58,
   "metadata": {},
   "outputs": [
    {
     "name": "stdout",
     "output_type": "stream",
     "text": [
      "(411051,) (411051,) (411051,)\n"
     ]
    }
   ],
   "source": [
    "batch_size = 128\n",
    "epochs = 20\n",
    "\n",
    "user_ids = reviews['user_id_encoded'].values\n",
    "business_ids = reviews['business_id_encoded'].values\n",
    "stars = reviews['stars'].values\n",
    "\n",
    "print(np.shape(user_ids), np.shape(business_ids), np.shape(stars))"
   ]
  },
  {
   "cell_type": "code",
   "execution_count": 59,
   "metadata": {},
   "outputs": [],
   "source": [
    "model_checkpoint = ModelCheckpoint(f'../saved/model_weights.h5',\n",
    "                             monitor='val_loss',   # Monitor validation loss\n",
    "                             save_best_only=True,  # Save only the best model\n",
    "                             save_weights_only=True,\n",
    "                             mode='min'            # Mode of monitoring (minimize validation loss)\n",
    "                            )\n",
    "\n",
    "early_stopping = EarlyStopping(monitor='val_loss',\n",
    "                               patience=5,\n",
    "                               restore_best_weights=True\n",
    "                              )"
   ]
  },
  {
   "cell_type": "code",
   "execution_count": 60,
   "metadata": {},
   "outputs": [
    {
     "name": "stdout",
     "output_type": "stream",
     "text": [
      "Epoch 1/20\n",
      "2570/2570 [==============================] - 20s 7ms/step - loss: 1.6327 - mae: 0.9946 - val_loss: 1.6512 - val_mae: 1.1006\n",
      "Epoch 2/20\n",
      "2570/2570 [==============================] - 19s 7ms/step - loss: 1.0618 - mae: 0.8120 - val_loss: 1.5218 - val_mae: 1.0306\n",
      "Epoch 3/20\n",
      "2570/2570 [==============================] - 19s 8ms/step - loss: 0.9320 - mae: 0.7514 - val_loss: 1.5471 - val_mae: 1.0356\n",
      "Epoch 4/20\n",
      "2570/2570 [==============================] - 20s 8ms/step - loss: 0.8253 - mae: 0.6988 - val_loss: 1.5397 - val_mae: 1.0241\n",
      "Epoch 5/20\n",
      "2570/2570 [==============================] - 20s 8ms/step - loss: 0.7368 - mae: 0.6537 - val_loss: 1.5463 - val_mae: 1.0189\n",
      "Epoch 6/20\n",
      "2570/2570 [==============================] - 19s 7ms/step - loss: 0.6717 - mae: 0.6196 - val_loss: 1.5631 - val_mae: 1.0384\n",
      "Epoch 7/20\n",
      "2570/2570 [==============================] - 20s 8ms/step - loss: 0.6287 - mae: 0.5958 - val_loss: 1.5495 - val_mae: 1.0309\n"
     ]
    }
   ],
   "source": [
    "history = model.fit(\n",
    "    [user_ids, business_ids],\n",
    "    stars,\n",
    "    batch_size=batch_size,\n",
    "    epochs=epochs,\n",
    "    validation_split=0.2,\n",
    "    callbacks=[early_stopping, model_checkpoint]\n",
    ")"
   ]
  },
  {
   "cell_type": "code",
   "execution_count": 61,
   "metadata": {},
   "outputs": [],
   "source": [
    "import pickle\n",
    "\n",
    "with open('../saved/user_encoder.pickle', 'wb') as f:\n",
    "    pickle.dump(user_encoder, f)\n",
    "    \n",
    "with open('../saved/business_encoder.pickle', 'wb') as f:\n",
    "    pickle.dump(business_encoder, f)"
   ]
  },
  {
   "cell_type": "code",
   "execution_count": null,
   "metadata": {},
   "outputs": [],
   "source": []
  }
 ],
 "metadata": {
  "kernelspec": {
   "display_name": "Python 3",
   "language": "python",
   "name": "python3"
  },
  "language_info": {
   "codemirror_mode": {
    "name": "ipython",
    "version": 3
   },
   "file_extension": ".py",
   "mimetype": "text/x-python",
   "name": "python",
   "nbconvert_exporter": "python",
   "pygments_lexer": "ipython3",
   "version": "3.7.4"
  }
 },
 "nbformat": 4,
 "nbformat_minor": 4
}
