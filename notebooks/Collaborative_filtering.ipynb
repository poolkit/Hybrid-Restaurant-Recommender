{
 "cells": [
  {
   "cell_type": "code",
   "execution_count": 1,
   "metadata": {},
   "outputs": [],
   "source": [
    "import pandas as pd\n",
    "import numpy as np\n",
    "import matplotlib.pyplot as plt\n",
    "import hashlib\n",
    "\n",
    "from sklearn.preprocessing import LabelEncoder\n",
    "from sklearn.model_selection import train_test_split, GridSearchCV\n",
    "from sklearn.metrics import mean_squared_error, mean_absolute_error\n",
    "\n",
    "import tensorflow as tf\n",
    "from tensorflow.keras.layers import Embedding, Flatten, Input, Dot, Concatenate, Dense, Dropout, BatchNormalization\n",
    "from tensorflow.keras.models import Model, load_model\n",
    "from tensorflow.keras.regularizers import l2\n",
    "from tensorflow.keras.callbacks import EarlyStopping, ModelCheckpoint\n",
    "\n",
    "pd.set_option('display.max_columns', None)"
   ]
  },
  {
   "cell_type": "code",
   "execution_count": 31,
   "metadata": {},
   "outputs": [],
   "source": [
    "reviews = pd.read_csv('../dataset/processed/reviews.csv')"
   ]
  },
  {
   "cell_type": "code",
   "execution_count": 32,
   "metadata": {},
   "outputs": [],
   "source": [
    "business = pd.read_csv('../dataset/processed/business.csv')"
   ]
  },
  {
   "cell_type": "code",
   "execution_count": 33,
   "metadata": {},
   "outputs": [
    {
     "name": "stdout",
     "output_type": "stream",
     "text": [
      "<class 'pandas.core.frame.DataFrame'>\n",
      "RangeIndex: 419344 entries, 0 to 419343\n",
      "Data columns (total 3 columns):\n",
      " #   Column       Non-Null Count   Dtype \n",
      "---  ------       --------------   ----- \n",
      " 0   user_id      419344 non-null  object\n",
      " 1   business_id  419344 non-null  object\n",
      " 2   stars        419344 non-null  int64 \n",
      "dtypes: int64(1), object(2)\n",
      "memory usage: 9.6+ MB\n"
     ]
    }
   ],
   "source": [
    "reviews.info()"
   ]
  },
  {
   "cell_type": "code",
   "execution_count": 34,
   "metadata": {},
   "outputs": [],
   "source": [
    "reviews = reviews.drop_duplicates()"
   ]
  },
  {
   "cell_type": "code",
   "execution_count": 35,
   "metadata": {},
   "outputs": [
    {
     "data": {
      "text/html": [
       "<div>\n",
       "<style scoped>\n",
       "    .dataframe tbody tr th:only-of-type {\n",
       "        vertical-align: middle;\n",
       "    }\n",
       "\n",
       "    .dataframe tbody tr th {\n",
       "        vertical-align: top;\n",
       "    }\n",
       "\n",
       "    .dataframe thead th {\n",
       "        text-align: right;\n",
       "    }\n",
       "</style>\n",
       "<table border=\"1\" class=\"dataframe\">\n",
       "  <thead>\n",
       "    <tr style=\"text-align: right;\">\n",
       "      <th></th>\n",
       "      <th>user_id</th>\n",
       "      <th>business_id</th>\n",
       "      <th>stars</th>\n",
       "    </tr>\n",
       "  </thead>\n",
       "  <tbody>\n",
       "    <tr>\n",
       "      <th>0</th>\n",
       "      <td>mh_-eMZ6K5RLWhZyISBhwA</td>\n",
       "      <td>d_tRshM-w6S4QxE4VVi8tQ</td>\n",
       "      <td>3</td>\n",
       "    </tr>\n",
       "    <tr>\n",
       "      <th>1</th>\n",
       "      <td>Zs8Zk3sgh5JxRmoZW4PJcg</td>\n",
       "      <td>d_tRshM-w6S4QxE4VVi8tQ</td>\n",
       "      <td>2</td>\n",
       "    </tr>\n",
       "    <tr>\n",
       "      <th>2</th>\n",
       "      <td>OkjeFppodgJP_CvB84cJYw</td>\n",
       "      <td>d_tRshM-w6S4QxE4VVi8tQ</td>\n",
       "      <td>3</td>\n",
       "    </tr>\n",
       "    <tr>\n",
       "      <th>3</th>\n",
       "      <td>11xwVSDv1ytjcyvUiyBWaw</td>\n",
       "      <td>d_tRshM-w6S4QxE4VVi8tQ</td>\n",
       "      <td>4</td>\n",
       "    </tr>\n",
       "    <tr>\n",
       "      <th>4</th>\n",
       "      <td>8EMU7d4pCkdqUnvlIW40CA</td>\n",
       "      <td>d_tRshM-w6S4QxE4VVi8tQ</td>\n",
       "      <td>4</td>\n",
       "    </tr>\n",
       "  </tbody>\n",
       "</table>\n",
       "</div>"
      ],
      "text/plain": [
       "                  user_id             business_id  stars\n",
       "0  mh_-eMZ6K5RLWhZyISBhwA  d_tRshM-w6S4QxE4VVi8tQ      3\n",
       "1  Zs8Zk3sgh5JxRmoZW4PJcg  d_tRshM-w6S4QxE4VVi8tQ      2\n",
       "2  OkjeFppodgJP_CvB84cJYw  d_tRshM-w6S4QxE4VVi8tQ      3\n",
       "3  11xwVSDv1ytjcyvUiyBWaw  d_tRshM-w6S4QxE4VVi8tQ      4\n",
       "4  8EMU7d4pCkdqUnvlIW40CA  d_tRshM-w6S4QxE4VVi8tQ      4"
      ]
     },
     "execution_count": 35,
     "metadata": {},
     "output_type": "execute_result"
    }
   ],
   "source": [
    "reviews.head()"
   ]
  },
  {
   "cell_type": "code",
   "execution_count": 36,
   "metadata": {},
   "outputs": [],
   "source": [
    "reviews = pd.merge(reviews, business, on='business_id')\n",
    "reviews = reviews[reviews['is_open']==1]\n",
    "reviews.rename(columns={'stars_x': 'stars'},inplace=True, errors='raise')\n",
    "reviews = reviews[['user_id','business_id','stars']]"
   ]
  },
  {
   "cell_type": "code",
   "execution_count": 37,
   "metadata": {},
   "outputs": [
    {
     "name": "stdout",
     "output_type": "stream",
     "text": [
      "Wall time: 40.7 ms\n"
     ]
    }
   ],
   "source": [
    "%%time\n",
    "train_data, test_data = train_test_split(reviews, test_size=0.2)"
   ]
  },
  {
   "cell_type": "code",
   "execution_count": 38,
   "metadata": {},
   "outputs": [
    {
     "name": "stdout",
     "output_type": "stream",
     "text": [
      "(245437, 3)\n",
      "(61360, 3)\n"
     ]
    }
   ],
   "source": [
    "print(train_data.shape)\n",
    "print(test_data.shape)"
   ]
  },
  {
   "cell_type": "code",
   "execution_count": 39,
   "metadata": {},
   "outputs": [
    {
     "name": "stdout",
     "output_type": "stream",
     "text": [
      "Wall time: 215 ms\n"
     ]
    }
   ],
   "source": [
    "%%time\n",
    "user_encoder = LabelEncoder()\n",
    "business_encoder = LabelEncoder()\n",
    "\n",
    "train_data['user_id_encoded'] = user_encoder.fit_transform(train_data['user_id'])\n",
    "train_data['business_id_encoded'] = business_encoder.fit_transform(train_data['business_id'])"
   ]
  },
  {
   "cell_type": "code",
   "execution_count": 40,
   "metadata": {},
   "outputs": [
    {
     "data": {
      "text/plain": [
       "(54513, 2412)"
      ]
     },
     "execution_count": 40,
     "metadata": {},
     "output_type": "execute_result"
    }
   ],
   "source": [
    "len(user_encoder.classes_), len(business_encoder.classes_)"
   ]
  },
  {
   "cell_type": "code",
   "execution_count": 41,
   "metadata": {},
   "outputs": [],
   "source": [
    "test_data = test_data[test_data['user_id'].isin(user_encoder.classes_)]\n",
    "test_data = test_data[test_data['business_id'].isin(business_encoder.classes_)]"
   ]
  },
  {
   "cell_type": "code",
   "execution_count": 42,
   "metadata": {},
   "outputs": [
    {
     "name": "stdout",
     "output_type": "stream",
     "text": [
      "(245437, 5)\n",
      "(54886, 3)\n"
     ]
    }
   ],
   "source": [
    "print(train_data.shape)\n",
    "print(test_data.shape)"
   ]
  },
  {
   "cell_type": "code",
   "execution_count": 43,
   "metadata": {},
   "outputs": [],
   "source": [
    "test_data['user_id_encoded'] = user_encoder.transform(test_data['user_id'])\n",
    "test_data['business_id_encoded'] = business_encoder.transform(test_data['business_id'])"
   ]
  },
  {
   "cell_type": "code",
   "execution_count": 44,
   "metadata": {},
   "outputs": [
    {
     "data": {
      "text/html": [
       "<div>\n",
       "<style scoped>\n",
       "    .dataframe tbody tr th:only-of-type {\n",
       "        vertical-align: middle;\n",
       "    }\n",
       "\n",
       "    .dataframe tbody tr th {\n",
       "        vertical-align: top;\n",
       "    }\n",
       "\n",
       "    .dataframe thead th {\n",
       "        text-align: right;\n",
       "    }\n",
       "</style>\n",
       "<table border=\"1\" class=\"dataframe\">\n",
       "  <thead>\n",
       "    <tr style=\"text-align: right;\">\n",
       "      <th></th>\n",
       "      <th>user_id</th>\n",
       "      <th>business_id</th>\n",
       "      <th>stars</th>\n",
       "      <th>user_id_encoded</th>\n",
       "      <th>business_id_encoded</th>\n",
       "    </tr>\n",
       "  </thead>\n",
       "  <tbody>\n",
       "    <tr>\n",
       "      <th>108760</th>\n",
       "      <td>f2ojVhuI7x3gqjstCtD62w</td>\n",
       "      <td>3eJMsl41qwhcYlvoTF1ElQ</td>\n",
       "      <td>2</td>\n",
       "      <td>36710</td>\n",
       "      <td>170</td>\n",
       "    </tr>\n",
       "    <tr>\n",
       "      <th>224224</th>\n",
       "      <td>qfOftK3mWfauqNd9R-4xyQ</td>\n",
       "      <td>JUlsvVAvZvGHWFfkKm0nlg</td>\n",
       "      <td>1</td>\n",
       "      <td>46658</td>\n",
       "      <td>794</td>\n",
       "    </tr>\n",
       "    <tr>\n",
       "      <th>102981</th>\n",
       "      <td>VcwfqvrgnBfu1GDmREgnCg</td>\n",
       "      <td>6ajnOk0GcY9xbb5Ocaw8Gw</td>\n",
       "      <td>5</td>\n",
       "      <td>27827</td>\n",
       "      <td>282</td>\n",
       "    </tr>\n",
       "    <tr>\n",
       "      <th>198151</th>\n",
       "      <td>-NXMmOULp-kUv_LO1V6JVQ</td>\n",
       "      <td>8kUh6TROemLfbVR_ewVVLg</td>\n",
       "      <td>4</td>\n",
       "      <td>315</td>\n",
       "      <td>364</td>\n",
       "    </tr>\n",
       "    <tr>\n",
       "      <th>166351</th>\n",
       "      <td>lKvLytGmsd-LZWiDWrUHHg</td>\n",
       "      <td>OdIBX09glfXNVSyd0RnIeg</td>\n",
       "      <td>4</td>\n",
       "      <td>42145</td>\n",
       "      <td>982</td>\n",
       "    </tr>\n",
       "  </tbody>\n",
       "</table>\n",
       "</div>"
      ],
      "text/plain": [
       "                       user_id             business_id  stars  \\\n",
       "108760  f2ojVhuI7x3gqjstCtD62w  3eJMsl41qwhcYlvoTF1ElQ      2   \n",
       "224224  qfOftK3mWfauqNd9R-4xyQ  JUlsvVAvZvGHWFfkKm0nlg      1   \n",
       "102981  VcwfqvrgnBfu1GDmREgnCg  6ajnOk0GcY9xbb5Ocaw8Gw      5   \n",
       "198151  -NXMmOULp-kUv_LO1V6JVQ  8kUh6TROemLfbVR_ewVVLg      4   \n",
       "166351  lKvLytGmsd-LZWiDWrUHHg  OdIBX09glfXNVSyd0RnIeg      4   \n",
       "\n",
       "        user_id_encoded  business_id_encoded  \n",
       "108760            36710                  170  \n",
       "224224            46658                  794  \n",
       "102981            27827                  282  \n",
       "198151              315                  364  \n",
       "166351            42145                  982  "
      ]
     },
     "execution_count": 44,
     "metadata": {},
     "output_type": "execute_result"
    }
   ],
   "source": [
    "train_data.head()"
   ]
  },
  {
   "cell_type": "code",
   "execution_count": 45,
   "metadata": {},
   "outputs": [
    {
     "data": {
      "text/html": [
       "<div>\n",
       "<style scoped>\n",
       "    .dataframe tbody tr th:only-of-type {\n",
       "        vertical-align: middle;\n",
       "    }\n",
       "\n",
       "    .dataframe tbody tr th {\n",
       "        vertical-align: top;\n",
       "    }\n",
       "\n",
       "    .dataframe thead th {\n",
       "        text-align: right;\n",
       "    }\n",
       "</style>\n",
       "<table border=\"1\" class=\"dataframe\">\n",
       "  <thead>\n",
       "    <tr style=\"text-align: right;\">\n",
       "      <th></th>\n",
       "      <th>user_id</th>\n",
       "      <th>business_id</th>\n",
       "      <th>stars</th>\n",
       "      <th>user_id_encoded</th>\n",
       "      <th>business_id_encoded</th>\n",
       "    </tr>\n",
       "  </thead>\n",
       "  <tbody>\n",
       "    <tr>\n",
       "      <th>127130</th>\n",
       "      <td>fz8IYZR-y2_fWlQZAVJ9YA</td>\n",
       "      <td>Pl_9HzOa8uy_YOUxgonzGw</td>\n",
       "      <td>5</td>\n",
       "      <td>37517</td>\n",
       "      <td>1015</td>\n",
       "    </tr>\n",
       "    <tr>\n",
       "      <th>343053</th>\n",
       "      <td>Br4Oe0FhUIeLGDXRxYKTCQ</td>\n",
       "      <td>Cz-2ekKVyKheFccKtYP1YA</td>\n",
       "      <td>3</td>\n",
       "      <td>11015</td>\n",
       "      <td>543</td>\n",
       "    </tr>\n",
       "    <tr>\n",
       "      <th>357574</th>\n",
       "      <td>0m6KJhYz7sZEFUAVfYJDDQ</td>\n",
       "      <td>_Re2IwkeFUqUsPMRZK8jng</td>\n",
       "      <td>3</td>\n",
       "      <td>1565</td>\n",
       "      <td>1416</td>\n",
       "    </tr>\n",
       "    <tr>\n",
       "      <th>37657</th>\n",
       "      <td>HwL0cUMC7-qghiAKBzMpXg</td>\n",
       "      <td>PhLYLCjM_dS_seS_fMBVeg</td>\n",
       "      <td>4</td>\n",
       "      <td>16170</td>\n",
       "      <td>1014</td>\n",
       "    </tr>\n",
       "    <tr>\n",
       "      <th>65091</th>\n",
       "      <td>YvoSfmthDmkqbVX8CS1NnQ</td>\n",
       "      <td>5vAtunQlPFkfdTI9zn4TIw</td>\n",
       "      <td>5</td>\n",
       "      <td>30590</td>\n",
       "      <td>257</td>\n",
       "    </tr>\n",
       "  </tbody>\n",
       "</table>\n",
       "</div>"
      ],
      "text/plain": [
       "                       user_id             business_id  stars  \\\n",
       "127130  fz8IYZR-y2_fWlQZAVJ9YA  Pl_9HzOa8uy_YOUxgonzGw      5   \n",
       "343053  Br4Oe0FhUIeLGDXRxYKTCQ  Cz-2ekKVyKheFccKtYP1YA      3   \n",
       "357574  0m6KJhYz7sZEFUAVfYJDDQ  _Re2IwkeFUqUsPMRZK8jng      3   \n",
       "37657   HwL0cUMC7-qghiAKBzMpXg  PhLYLCjM_dS_seS_fMBVeg      4   \n",
       "65091   YvoSfmthDmkqbVX8CS1NnQ  5vAtunQlPFkfdTI9zn4TIw      5   \n",
       "\n",
       "        user_id_encoded  business_id_encoded  \n",
       "127130            37517                 1015  \n",
       "343053            11015                  543  \n",
       "357574             1565                 1416  \n",
       "37657             16170                 1014  \n",
       "65091             30590                  257  "
      ]
     },
     "execution_count": 45,
     "metadata": {},
     "output_type": "execute_result"
    }
   ],
   "source": [
    "test_data.head()"
   ]
  },
  {
   "cell_type": "code",
   "execution_count": 46,
   "metadata": {},
   "outputs": [
    {
     "name": "stdout",
     "output_type": "stream",
     "text": [
      "GPU device found: /device:GPU:0\n"
     ]
    }
   ],
   "source": [
    "if tf.test.gpu_device_name():\n",
    "    print('GPU device found: {}'.format(tf.test.gpu_device_name()))\n",
    "else:\n",
    "    print(\"No GPU device found. Training on CPU.\")"
   ]
  },
  {
   "cell_type": "code",
   "execution_count": 47,
   "metadata": {},
   "outputs": [
    {
     "name": "stdout",
     "output_type": "stream",
     "text": [
      "Unique Users: 54513, Unique Businesses: 2412\n"
     ]
    }
   ],
   "source": [
    "num_users = len(user_encoder.classes_)\n",
    "num_businesses = len(business_encoder.classes_)\n",
    "\n",
    "print(f\"Unique Users: {num_users}, Unique Businesses: {num_businesses}\")"
   ]
  },
  {
   "cell_type": "code",
   "execution_count": 48,
   "metadata": {},
   "outputs": [
    {
     "name": "stdout",
     "output_type": "stream",
     "text": [
      "Model: \"model\"\n",
      "__________________________________________________________________________________________________\n",
      " Layer (type)                   Output Shape         Param #     Connected to                     \n",
      "==================================================================================================\n",
      " user_input (InputLayer)        [(None, 1)]          0           []                               \n",
      "                                                                                                  \n",
      " business_input (InputLayer)    [(None, 1)]          0           []                               \n",
      "                                                                                                  \n",
      " embedding (Embedding)          (None, 1, 32)        1744416     ['user_input[0][0]']             \n",
      "                                                                                                  \n",
      " embedding_1 (Embedding)        (None, 1, 32)        77184       ['business_input[0][0]']         \n",
      "                                                                                                  \n",
      " flatten (Flatten)              (None, 32)           0           ['embedding[0][0]']              \n",
      "                                                                                                  \n",
      " flatten_1 (Flatten)            (None, 32)           0           ['embedding_1[0][0]']            \n",
      "                                                                                                  \n",
      " concatenate (Concatenate)      (None, 64)           0           ['flatten[0][0]',                \n",
      "                                                                  'flatten_1[0][0]']              \n",
      "                                                                                                  \n",
      " batch_normalization (BatchNorm  (None, 64)          256         ['concatenate[0][0]']            \n",
      " alization)                                                                                       \n",
      "                                                                                                  \n",
      " dense (Dense)                  (None, 128)          8320        ['batch_normalization[0][0]']    \n",
      "                                                                                                  \n",
      " dropout (Dropout)              (None, 128)          0           ['dense[0][0]']                  \n",
      "                                                                                                  \n",
      " dense_1 (Dense)                (None, 1)            129         ['dropout[0][0]']                \n",
      "                                                                                                  \n",
      "==================================================================================================\n",
      "Total params: 1,830,305\n",
      "Trainable params: 1,830,177\n",
      "Non-trainable params: 128\n",
      "__________________________________________________________________________________________________\n"
     ]
    }
   ],
   "source": [
    "embedding_dim=32\n",
    "\n",
    "user_input = Input(shape=(1,), name='user_input')\n",
    "business_input = Input(shape=(1,), name='business_input')\n",
    "\n",
    "user_embedding = Embedding(input_dim=num_users, output_dim=embedding_dim, embeddings_regularizer=l2(1e-6))(user_input)\n",
    "business_embedding = Embedding(input_dim=num_businesses, output_dim=embedding_dim, embeddings_regularizer=l2(1e-6))(business_input)\n",
    "\n",
    "user_flatten = Flatten()(user_embedding)\n",
    "business_flatten = Flatten()(business_embedding)\n",
    "\n",
    "merged = Concatenate()([user_flatten, business_flatten])\n",
    "merged = BatchNormalization()(merged)\n",
    "\n",
    "dense_layer = Dense(128, activation='relu')(merged)\n",
    "dropout = Dropout(0.4)(dense_layer)\n",
    "output_layer = Dense(1, activation='linear')(dropout)\n",
    "\n",
    "model = Model(inputs=[user_input, business_input], outputs=output_layer)\n",
    "model.compile(loss='mean_squared_error', optimizer='adam', metrics=['mae'])\n",
    "model.summary()"
   ]
  },
  {
   "cell_type": "code",
   "execution_count": 49,
   "metadata": {},
   "outputs": [
    {
     "name": "stdout",
     "output_type": "stream",
     "text": [
      "(245437,) (245437,) (245437,)\n"
     ]
    }
   ],
   "source": [
    "batch_size = 128\n",
    "epochs = 20\n",
    "\n",
    "user_ids = train_data['user_id_encoded'].values\n",
    "business_ids = train_data['business_id_encoded'].values\n",
    "stars = train_data['stars'].values\n",
    "\n",
    "print(np.shape(user_ids), np.shape(business_ids), np.shape(stars))"
   ]
  },
  {
   "cell_type": "code",
   "execution_count": 50,
   "metadata": {},
   "outputs": [],
   "source": [
    "model_checkpoint = ModelCheckpoint(f'../saved/model_weights.h5',\n",
    "                             monitor='val_loss',   # Monitor validation loss\n",
    "                             save_best_only=True,  # Save only the best model\n",
    "                             save_weights_only=True,\n",
    "                             mode='min'            # Mode of monitoring (minimize validation loss)\n",
    "                            )\n",
    "\n",
    "early_stopping = EarlyStopping(monitor='val_loss',\n",
    "                               patience=5,\n",
    "                               restore_best_weights=True\n",
    "                              )"
   ]
  },
  {
   "cell_type": "code",
   "execution_count": 51,
   "metadata": {},
   "outputs": [
    {
     "name": "stdout",
     "output_type": "stream",
     "text": [
      "Epoch 1/20\n",
      "1534/1534 [==============================] - 13s 7ms/step - loss: 1.7703 - mae: 1.0450 - val_loss: 1.1095 - val_mae: 0.8393\n",
      "Epoch 2/20\n",
      "1534/1534 [==============================] - 10s 7ms/step - loss: 1.1254 - mae: 0.8390 - val_loss: 1.0949 - val_mae: 0.8099\n",
      "Epoch 3/20\n",
      "1534/1534 [==============================] - 11s 7ms/step - loss: 0.9453 - mae: 0.7607 - val_loss: 1.1348 - val_mae: 0.8198\n",
      "Epoch 4/20\n",
      "1534/1534 [==============================] - 12s 8ms/step - loss: 0.8130 - mae: 0.6991 - val_loss: 1.1433 - val_mae: 0.8400\n",
      "Epoch 5/20\n",
      "1534/1534 [==============================] - 12s 8ms/step - loss: 0.7033 - mae: 0.6448 - val_loss: 1.1639 - val_mae: 0.8491\n",
      "Epoch 6/20\n",
      "1534/1534 [==============================] - 12s 8ms/step - loss: 0.6239 - mae: 0.6040 - val_loss: 1.1827 - val_mae: 0.8427\n",
      "Epoch 7/20\n",
      "1534/1534 [==============================] - 12s 8ms/step - loss: 0.5618 - mae: 0.5711 - val_loss: 1.1869 - val_mae: 0.8441\n"
     ]
    }
   ],
   "source": [
    "history = model.fit(\n",
    "    [user_ids, business_ids],\n",
    "    stars,\n",
    "    batch_size=batch_size,\n",
    "    epochs=epochs,\n",
    "    validation_split=0.2,\n",
    "    callbacks=[early_stopping, model_checkpoint]\n",
    ")"
   ]
  },
  {
   "cell_type": "code",
   "execution_count": null,
   "metadata": {},
   "outputs": [],
   "source": []
  },
  {
   "cell_type": "code",
   "execution_count": 52,
   "metadata": {},
   "outputs": [
    {
     "data": {
      "text/html": [
       "<div>\n",
       "<style scoped>\n",
       "    .dataframe tbody tr th:only-of-type {\n",
       "        vertical-align: middle;\n",
       "    }\n",
       "\n",
       "    .dataframe tbody tr th {\n",
       "        vertical-align: top;\n",
       "    }\n",
       "\n",
       "    .dataframe thead th {\n",
       "        text-align: right;\n",
       "    }\n",
       "</style>\n",
       "<table border=\"1\" class=\"dataframe\">\n",
       "  <thead>\n",
       "    <tr style=\"text-align: right;\">\n",
       "      <th></th>\n",
       "      <th>user_id</th>\n",
       "      <th>business_id</th>\n",
       "      <th>stars</th>\n",
       "      <th>user_id_encoded</th>\n",
       "      <th>business_id_encoded</th>\n",
       "    </tr>\n",
       "  </thead>\n",
       "  <tbody>\n",
       "    <tr>\n",
       "      <th>127130</th>\n",
       "      <td>fz8IYZR-y2_fWlQZAVJ9YA</td>\n",
       "      <td>Pl_9HzOa8uy_YOUxgonzGw</td>\n",
       "      <td>5</td>\n",
       "      <td>37517</td>\n",
       "      <td>1015</td>\n",
       "    </tr>\n",
       "    <tr>\n",
       "      <th>343053</th>\n",
       "      <td>Br4Oe0FhUIeLGDXRxYKTCQ</td>\n",
       "      <td>Cz-2ekKVyKheFccKtYP1YA</td>\n",
       "      <td>3</td>\n",
       "      <td>11015</td>\n",
       "      <td>543</td>\n",
       "    </tr>\n",
       "    <tr>\n",
       "      <th>357574</th>\n",
       "      <td>0m6KJhYz7sZEFUAVfYJDDQ</td>\n",
       "      <td>_Re2IwkeFUqUsPMRZK8jng</td>\n",
       "      <td>3</td>\n",
       "      <td>1565</td>\n",
       "      <td>1416</td>\n",
       "    </tr>\n",
       "    <tr>\n",
       "      <th>37657</th>\n",
       "      <td>HwL0cUMC7-qghiAKBzMpXg</td>\n",
       "      <td>PhLYLCjM_dS_seS_fMBVeg</td>\n",
       "      <td>4</td>\n",
       "      <td>16170</td>\n",
       "      <td>1014</td>\n",
       "    </tr>\n",
       "    <tr>\n",
       "      <th>65091</th>\n",
       "      <td>YvoSfmthDmkqbVX8CS1NnQ</td>\n",
       "      <td>5vAtunQlPFkfdTI9zn4TIw</td>\n",
       "      <td>5</td>\n",
       "      <td>30590</td>\n",
       "      <td>257</td>\n",
       "    </tr>\n",
       "  </tbody>\n",
       "</table>\n",
       "</div>"
      ],
      "text/plain": [
       "                       user_id             business_id  stars  \\\n",
       "127130  fz8IYZR-y2_fWlQZAVJ9YA  Pl_9HzOa8uy_YOUxgonzGw      5   \n",
       "343053  Br4Oe0FhUIeLGDXRxYKTCQ  Cz-2ekKVyKheFccKtYP1YA      3   \n",
       "357574  0m6KJhYz7sZEFUAVfYJDDQ  _Re2IwkeFUqUsPMRZK8jng      3   \n",
       "37657   HwL0cUMC7-qghiAKBzMpXg  PhLYLCjM_dS_seS_fMBVeg      4   \n",
       "65091   YvoSfmthDmkqbVX8CS1NnQ  5vAtunQlPFkfdTI9zn4TIw      5   \n",
       "\n",
       "        user_id_encoded  business_id_encoded  \n",
       "127130            37517                 1015  \n",
       "343053            11015                  543  \n",
       "357574             1565                 1416  \n",
       "37657             16170                 1014  \n",
       "65091             30590                  257  "
      ]
     },
     "execution_count": 52,
     "metadata": {},
     "output_type": "execute_result"
    }
   ],
   "source": [
    "test_data.head()"
   ]
  },
  {
   "cell_type": "code",
   "execution_count": 53,
   "metadata": {},
   "outputs": [],
   "source": [
    "test_user_ids = test_data['user_id_encoded'].values\n",
    "test_business_ids = test_data['business_id_encoded'].values\n",
    "test_stars = test_data['stars'].values"
   ]
  },
  {
   "cell_type": "code",
   "execution_count": 54,
   "metadata": {},
   "outputs": [],
   "source": [
    "predictions = model.predict([test_user_ids, test_business_ids])"
   ]
  },
  {
   "cell_type": "code",
   "execution_count": 55,
   "metadata": {},
   "outputs": [
    {
     "data": {
      "text/plain": [
       "array([[4.045011 ],\n",
       "       [4.8661532],\n",
       "       [4.0147123],\n",
       "       ...,\n",
       "       [4.1755023],\n",
       "       [4.354646 ],\n",
       "       [4.170184 ]], dtype=float32)"
      ]
     },
     "execution_count": 55,
     "metadata": {},
     "output_type": "execute_result"
    }
   ],
   "source": [
    "predictions"
   ]
  },
  {
   "cell_type": "code",
   "execution_count": 56,
   "metadata": {},
   "outputs": [
    {
     "data": {
      "text/plain": [
       "(1.1149869, 6.158636)"
      ]
     },
     "execution_count": 56,
     "metadata": {},
     "output_type": "execute_result"
    }
   ],
   "source": [
    "predictions.min(), predictions.max()"
   ]
  },
  {
   "cell_type": "code",
   "execution_count": 57,
   "metadata": {},
   "outputs": [
    {
     "data": {
      "text/plain": [
       "1.05465812707934"
      ]
     },
     "execution_count": 57,
     "metadata": {},
     "output_type": "execute_result"
    }
   ],
   "source": [
    "mean_squared_error(predictions,test_stars)"
   ]
  },
  {
   "cell_type": "code",
   "execution_count": 58,
   "metadata": {},
   "outputs": [
    {
     "data": {
      "text/plain": [
       "0.7912228819002795"
      ]
     },
     "execution_count": 58,
     "metadata": {},
     "output_type": "execute_result"
    }
   ],
   "source": [
    "mean_absolute_error(predictions,test_stars)"
   ]
  },
  {
   "cell_type": "code",
   "execution_count": 59,
   "metadata": {},
   "outputs": [
    {
     "data": {
      "text/plain": [
       "array([[3.4684098]], dtype=float32)"
      ]
     },
     "execution_count": 59,
     "metadata": {},
     "output_type": "execute_result"
    }
   ],
   "source": [
    "model.predict([np.array([11752]), np.array([3280])])"
   ]
  },
  {
   "cell_type": "markdown",
   "metadata": {},
   "source": [
    "#### Training for entire data"
   ]
  },
  {
   "cell_type": "code",
   "execution_count": 60,
   "metadata": {},
   "outputs": [
    {
     "data": {
      "text/html": [
       "<div>\n",
       "<style scoped>\n",
       "    .dataframe tbody tr th:only-of-type {\n",
       "        vertical-align: middle;\n",
       "    }\n",
       "\n",
       "    .dataframe tbody tr th {\n",
       "        vertical-align: top;\n",
       "    }\n",
       "\n",
       "    .dataframe thead th {\n",
       "        text-align: right;\n",
       "    }\n",
       "</style>\n",
       "<table border=\"1\" class=\"dataframe\">\n",
       "  <thead>\n",
       "    <tr style=\"text-align: right;\">\n",
       "      <th></th>\n",
       "      <th>user_id</th>\n",
       "      <th>business_id</th>\n",
       "      <th>stars</th>\n",
       "    </tr>\n",
       "  </thead>\n",
       "  <tbody>\n",
       "    <tr>\n",
       "      <th>810</th>\n",
       "      <td>mh_-eMZ6K5RLWhZyISBhwA</td>\n",
       "      <td>L4kfcADLCU4T33i7Z0CkuA</td>\n",
       "      <td>2</td>\n",
       "    </tr>\n",
       "    <tr>\n",
       "      <th>811</th>\n",
       "      <td>LTl0cbH2a8QeQQ3XSA3_dw</td>\n",
       "      <td>L4kfcADLCU4T33i7Z0CkuA</td>\n",
       "      <td>5</td>\n",
       "    </tr>\n",
       "    <tr>\n",
       "      <th>812</th>\n",
       "      <td>syKoxudhp7dbwbh3xrgjVQ</td>\n",
       "      <td>L4kfcADLCU4T33i7Z0CkuA</td>\n",
       "      <td>3</td>\n",
       "    </tr>\n",
       "    <tr>\n",
       "      <th>813</th>\n",
       "      <td>V9n2Qyr-dvNg00BwMWqquQ</td>\n",
       "      <td>L4kfcADLCU4T33i7Z0CkuA</td>\n",
       "      <td>4</td>\n",
       "    </tr>\n",
       "    <tr>\n",
       "      <th>814</th>\n",
       "      <td>vEFJfeis4LEuM-y4qZvXAA</td>\n",
       "      <td>L4kfcADLCU4T33i7Z0CkuA</td>\n",
       "      <td>4</td>\n",
       "    </tr>\n",
       "  </tbody>\n",
       "</table>\n",
       "</div>"
      ],
      "text/plain": [
       "                    user_id             business_id  stars\n",
       "810  mh_-eMZ6K5RLWhZyISBhwA  L4kfcADLCU4T33i7Z0CkuA      2\n",
       "811  LTl0cbH2a8QeQQ3XSA3_dw  L4kfcADLCU4T33i7Z0CkuA      5\n",
       "812  syKoxudhp7dbwbh3xrgjVQ  L4kfcADLCU4T33i7Z0CkuA      3\n",
       "813  V9n2Qyr-dvNg00BwMWqquQ  L4kfcADLCU4T33i7Z0CkuA      4\n",
       "814  vEFJfeis4LEuM-y4qZvXAA  L4kfcADLCU4T33i7Z0CkuA      4"
      ]
     },
     "execution_count": 60,
     "metadata": {},
     "output_type": "execute_result"
    }
   ],
   "source": [
    "reviews.head()"
   ]
  },
  {
   "cell_type": "code",
   "execution_count": 61,
   "metadata": {},
   "outputs": [
    {
     "name": "stdout",
     "output_type": "stream",
     "text": [
      "Wall time: 258 ms\n"
     ]
    }
   ],
   "source": [
    "%%time\n",
    "user_encoder = LabelEncoder()\n",
    "business_encoder = LabelEncoder()\n",
    "\n",
    "reviews['user_id_encoded'] = user_encoder.fit_transform(reviews['user_id'])\n",
    "reviews['business_id_encoded'] = business_encoder.fit_transform(reviews['business_id'])"
   ]
  },
  {
   "cell_type": "code",
   "execution_count": 62,
   "metadata": {},
   "outputs": [
    {
     "name": "stdout",
     "output_type": "stream",
     "text": [
      "Unique Users: 60425, Unique Businesses: 2412\n"
     ]
    }
   ],
   "source": [
    "num_users = len(user_encoder.classes_)\n",
    "num_businesses = len(business_encoder.classes_)\n",
    "\n",
    "print(f\"Unique Users: {num_users}, Unique Businesses: {num_businesses}\")"
   ]
  },
  {
   "cell_type": "code",
   "execution_count": 63,
   "metadata": {},
   "outputs": [
    {
     "name": "stdout",
     "output_type": "stream",
     "text": [
      "Model: \"model_1\"\n",
      "__________________________________________________________________________________________________\n",
      " Layer (type)                   Output Shape         Param #     Connected to                     \n",
      "==================================================================================================\n",
      " user_input (InputLayer)        [(None, 1)]          0           []                               \n",
      "                                                                                                  \n",
      " business_input (InputLayer)    [(None, 1)]          0           []                               \n",
      "                                                                                                  \n",
      " embedding_2 (Embedding)        (None, 1, 32)        1933600     ['user_input[0][0]']             \n",
      "                                                                                                  \n",
      " embedding_3 (Embedding)        (None, 1, 32)        77184       ['business_input[0][0]']         \n",
      "                                                                                                  \n",
      " flatten_2 (Flatten)            (None, 32)           0           ['embedding_2[0][0]']            \n",
      "                                                                                                  \n",
      " flatten_3 (Flatten)            (None, 32)           0           ['embedding_3[0][0]']            \n",
      "                                                                                                  \n",
      " concatenate_1 (Concatenate)    (None, 64)           0           ['flatten_2[0][0]',              \n",
      "                                                                  'flatten_3[0][0]']              \n",
      "                                                                                                  \n",
      " batch_normalization_1 (BatchNo  (None, 64)          256         ['concatenate_1[0][0]']          \n",
      " rmalization)                                                                                     \n",
      "                                                                                                  \n",
      " dense_2 (Dense)                (None, 128)          8320        ['batch_normalization_1[0][0]']  \n",
      "                                                                                                  \n",
      " dropout_1 (Dropout)            (None, 128)          0           ['dense_2[0][0]']                \n",
      "                                                                                                  \n",
      " dense_3 (Dense)                (None, 1)            129         ['dropout_1[0][0]']              \n",
      "                                                                                                  \n",
      "==================================================================================================\n",
      "Total params: 2,019,489\n",
      "Trainable params: 2,019,361\n",
      "Non-trainable params: 128\n",
      "__________________________________________________________________________________________________\n"
     ]
    }
   ],
   "source": [
    "embedding_dim=32\n",
    "\n",
    "user_input = Input(shape=(1,), name='user_input')\n",
    "business_input = Input(shape=(1,), name='business_input')\n",
    "\n",
    "user_embedding = Embedding(input_dim=num_users, output_dim=embedding_dim, embeddings_regularizer=l2(1e-6))(user_input)\n",
    "business_embedding = Embedding(input_dim=num_businesses, output_dim=embedding_dim, embeddings_regularizer=l2(1e-6))(business_input)\n",
    "\n",
    "user_flatten = Flatten()(user_embedding)\n",
    "business_flatten = Flatten()(business_embedding)\n",
    "\n",
    "merged = Concatenate()([user_flatten, business_flatten])\n",
    "merged = BatchNormalization()(merged)\n",
    "\n",
    "dense_layer = Dense(128, activation='relu')(merged)\n",
    "dropout = Dropout(0.4)(dense_layer)\n",
    "output_layer = Dense(1, activation='linear')(dropout)\n",
    "\n",
    "model = Model(inputs=[user_input, business_input], outputs=output_layer)\n",
    "model.compile(loss='mean_squared_error', optimizer='adam', metrics=['mae'])\n",
    "model.summary()"
   ]
  },
  {
   "cell_type": "code",
   "execution_count": 64,
   "metadata": {},
   "outputs": [
    {
     "name": "stdout",
     "output_type": "stream",
     "text": [
      "(306797,) (306797,) (306797,)\n"
     ]
    }
   ],
   "source": [
    "batch_size = 128\n",
    "epochs = 20\n",
    "\n",
    "user_ids = reviews['user_id_encoded'].values\n",
    "business_ids = reviews['business_id_encoded'].values\n",
    "stars = reviews['stars'].values\n",
    "\n",
    "print(np.shape(user_ids), np.shape(business_ids), np.shape(stars))"
   ]
  },
  {
   "cell_type": "code",
   "execution_count": 65,
   "metadata": {},
   "outputs": [],
   "source": [
    "model_checkpoint = ModelCheckpoint(f'../saved/model_weights.h5',\n",
    "                             monitor='val_loss',   # Monitor validation loss\n",
    "                             save_best_only=True,  # Save only the best model\n",
    "                             save_weights_only=True,\n",
    "                             mode='min'            # Mode of monitoring (minimize validation loss)\n",
    "                            )\n",
    "\n",
    "early_stopping = EarlyStopping(monitor='val_loss',\n",
    "                               patience=5,\n",
    "                               restore_best_weights=True\n",
    "                              )"
   ]
  },
  {
   "cell_type": "code",
   "execution_count": 66,
   "metadata": {},
   "outputs": [
    {
     "name": "stdout",
     "output_type": "stream",
     "text": [
      "Epoch 1/20\n",
      "1918/1918 [==============================] - 15s 8ms/step - loss: 1.7816 - mae: 1.0309 - val_loss: 2.1393 - val_mae: 1.2876\n",
      "Epoch 2/20\n",
      "1918/1918 [==============================] - 15s 8ms/step - loss: 1.0724 - mae: 0.8150 - val_loss: 1.5749 - val_mae: 1.0639\n",
      "Epoch 3/20\n",
      "1918/1918 [==============================] - 14s 7ms/step - loss: 0.9107 - mae: 0.7436 - val_loss: 1.5745 - val_mae: 1.0488\n",
      "Epoch 4/20\n",
      "1918/1918 [==============================] - 14s 8ms/step - loss: 0.7874 - mae: 0.6842 - val_loss: 1.5540 - val_mae: 1.0308\n",
      "Epoch 5/20\n",
      "1918/1918 [==============================] - 15s 8ms/step - loss: 0.6932 - mae: 0.6364 - val_loss: 1.5569 - val_mae: 1.0273\n",
      "Epoch 6/20\n",
      "1918/1918 [==============================] - 15s 8ms/step - loss: 0.6238 - mae: 0.5992 - val_loss: 1.5467 - val_mae: 1.0276\n",
      "Epoch 7/20\n",
      "1918/1918 [==============================] - 15s 8ms/step - loss: 0.5751 - mae: 0.5707 - val_loss: 1.5355 - val_mae: 1.0206\n",
      "Epoch 8/20\n",
      "1918/1918 [==============================] - 15s 8ms/step - loss: 0.5405 - mae: 0.5499 - val_loss: 1.5367 - val_mae: 1.0309\n",
      "Epoch 9/20\n",
      "1918/1918 [==============================] - 15s 8ms/step - loss: 0.5136 - mae: 0.5328 - val_loss: 1.5270 - val_mae: 1.0223\n",
      "Epoch 10/20\n",
      "1918/1918 [==============================] - 14s 8ms/step - loss: 0.4924 - mae: 0.5201 - val_loss: 1.5174 - val_mae: 1.0188\n",
      "Epoch 11/20\n",
      "1918/1918 [==============================] - 14s 8ms/step - loss: 0.4752 - mae: 0.5090 - val_loss: 1.5358 - val_mae: 1.0341\n",
      "Epoch 12/20\n",
      "1918/1918 [==============================] - 14s 8ms/step - loss: 0.4626 - mae: 0.5011 - val_loss: 1.5598 - val_mae: 1.0513\n",
      "Epoch 13/20\n",
      "1918/1918 [==============================] - 14s 7ms/step - loss: 0.4522 - mae: 0.4944 - val_loss: 1.5474 - val_mae: 1.0414\n",
      "Epoch 14/20\n",
      "1918/1918 [==============================] - 15s 8ms/step - loss: 0.4413 - mae: 0.4871 - val_loss: 1.5612 - val_mae: 1.0522\n",
      "Epoch 15/20\n",
      "1918/1918 [==============================] - 16s 8ms/step - loss: 0.4333 - mae: 0.4823 - val_loss: 1.5673 - val_mae: 1.0563\n"
     ]
    }
   ],
   "source": [
    "history = model.fit(\n",
    "    [user_ids, business_ids],\n",
    "    stars,\n",
    "    batch_size=batch_size,\n",
    "    epochs=epochs,\n",
    "    validation_split=0.2,\n",
    "    callbacks=[early_stopping, model_checkpoint]\n",
    ")"
   ]
  },
  {
   "cell_type": "code",
   "execution_count": 67,
   "metadata": {},
   "outputs": [],
   "source": [
    "import pickle\n",
    "\n",
    "with open('../saved/user_encoder.pickle', 'wb') as f:\n",
    "    pickle.dump(user_encoder, f)\n",
    "    \n",
    "with open('../saved/business_encoder.pickle', 'wb') as f:\n",
    "    pickle.dump(business_encoder, f)"
   ]
  },
  {
   "cell_type": "code",
   "execution_count": null,
   "metadata": {},
   "outputs": [],
   "source": []
  }
 ],
 "metadata": {
  "kernelspec": {
   "display_name": "Python 3",
   "language": "python",
   "name": "python3"
  },
  "language_info": {
   "codemirror_mode": {
    "name": "ipython",
    "version": 3
   },
   "file_extension": ".py",
   "mimetype": "text/x-python",
   "name": "python",
   "nbconvert_exporter": "python",
   "pygments_lexer": "ipython3",
   "version": "3.7.4"
  }
 },
 "nbformat": 4,
 "nbformat_minor": 4
}
