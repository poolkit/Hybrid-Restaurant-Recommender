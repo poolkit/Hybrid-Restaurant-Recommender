{
 "cells": [
  {
   "cell_type": "code",
   "execution_count": 1,
   "metadata": {},
   "outputs": [],
   "source": [
    "import pandas as pd\n",
    "import numpy as np\n",
    "import matplotlib.pyplot as plt\n",
    "import hashlib\n",
    "\n",
    "import tensorflow as tf\n",
    "from sklearn.preprocessing import LabelEncoder\n",
    "from sklearn.model_selection import train_test_split\n",
    "from tensorflow.keras.layers import Embedding, Flatten, Input, Dot, Concatenate, Dense\n",
    "from tensorflow.keras.models import Model, load_model\n",
    "from tensorflow.keras.callbacks import EarlyStopping, ModelCheckpoint\n",
    "\n",
    "pd.set_option('display.max_columns', None)"
   ]
  },
  {
   "cell_type": "code",
   "execution_count": 2,
   "metadata": {},
   "outputs": [
    {
     "name": "stdout",
     "output_type": "stream",
     "text": [
      "Wall time: 3min 53s\n"
     ]
    }
   ],
   "source": [
    "%%time\n",
    "reviews_chunk = pd.read_json(\"../dataset/jsons/yelp_academic_dataset_review.json\", lines=True,\n",
    "                      dtype={'review_id':str,'user_id':str,\n",
    "                             'business_id':str,'stars':'int8',\n",
    "                             'date':str,'text':str,'useful':'int8',\n",
    "                             'funny':'int8','cool':'int8'},\n",
    "                      chunksize=10000)\n",
    "\n",
    "reviews_data = [review for review in reviews_chunk]\n",
    "reviews = pd.concat(reviews_data)"
   ]
  },
  {
   "cell_type": "code",
   "execution_count": 3,
   "metadata": {},
   "outputs": [
    {
     "name": "stdout",
     "output_type": "stream",
     "text": [
      "<class 'pandas.core.frame.DataFrame'>\n",
      "RangeIndex: 6990280 entries, 0 to 6990279\n",
      "Data columns (total 9 columns):\n",
      " #   Column       Dtype \n",
      "---  ------       ----- \n",
      " 0   review_id    object\n",
      " 1   user_id      object\n",
      " 2   business_id  object\n",
      " 3   stars        int8  \n",
      " 4   useful       int8  \n",
      " 5   funny        int8  \n",
      " 6   cool         int8  \n",
      " 7   text         object\n",
      " 8   date         object\n",
      "dtypes: int8(4), object(5)\n",
      "memory usage: 293.3+ MB\n"
     ]
    }
   ],
   "source": [
    "reviews.info()"
   ]
  },
  {
   "cell_type": "code",
   "execution_count": 4,
   "metadata": {},
   "outputs": [
    {
     "data": {
      "text/html": [
       "<div>\n",
       "<style scoped>\n",
       "    .dataframe tbody tr th:only-of-type {\n",
       "        vertical-align: middle;\n",
       "    }\n",
       "\n",
       "    .dataframe tbody tr th {\n",
       "        vertical-align: top;\n",
       "    }\n",
       "\n",
       "    .dataframe thead th {\n",
       "        text-align: right;\n",
       "    }\n",
       "</style>\n",
       "<table border=\"1\" class=\"dataframe\">\n",
       "  <thead>\n",
       "    <tr style=\"text-align: right;\">\n",
       "      <th></th>\n",
       "      <th>review_id</th>\n",
       "      <th>user_id</th>\n",
       "      <th>business_id</th>\n",
       "      <th>stars</th>\n",
       "      <th>useful</th>\n",
       "      <th>funny</th>\n",
       "      <th>cool</th>\n",
       "      <th>text</th>\n",
       "      <th>date</th>\n",
       "    </tr>\n",
       "  </thead>\n",
       "  <tbody>\n",
       "    <tr>\n",
       "      <th>0</th>\n",
       "      <td>KU_O5udG6zpxOg-VcAEodg</td>\n",
       "      <td>mh_-eMZ6K5RLWhZyISBhwA</td>\n",
       "      <td>XQfwVwDr-v0ZS3_CbbE5Xw</td>\n",
       "      <td>3</td>\n",
       "      <td>0</td>\n",
       "      <td>0</td>\n",
       "      <td>0</td>\n",
       "      <td>If you decide to eat here, just be aware it is...</td>\n",
       "      <td>2018-07-07 22:09:11</td>\n",
       "    </tr>\n",
       "    <tr>\n",
       "      <th>1</th>\n",
       "      <td>BiTunyQ73aT9WBnpR9DZGw</td>\n",
       "      <td>OyoGAe7OKpv6SyGZT5g77Q</td>\n",
       "      <td>7ATYjTIgM3jUlt4UM3IypQ</td>\n",
       "      <td>5</td>\n",
       "      <td>1</td>\n",
       "      <td>0</td>\n",
       "      <td>1</td>\n",
       "      <td>I've taken a lot of spin classes over the year...</td>\n",
       "      <td>2012-01-03 15:28:18</td>\n",
       "    </tr>\n",
       "    <tr>\n",
       "      <th>2</th>\n",
       "      <td>saUsX_uimxRlCVr67Z4Jig</td>\n",
       "      <td>8g_iMtfSiwikVnbP2etR0A</td>\n",
       "      <td>YjUWPpI6HXG530lwP-fb2A</td>\n",
       "      <td>3</td>\n",
       "      <td>0</td>\n",
       "      <td>0</td>\n",
       "      <td>0</td>\n",
       "      <td>Family diner. Had the buffet. Eclectic assortm...</td>\n",
       "      <td>2014-02-05 20:30:30</td>\n",
       "    </tr>\n",
       "    <tr>\n",
       "      <th>3</th>\n",
       "      <td>AqPFMleE6RsU23_auESxiA</td>\n",
       "      <td>_7bHUi9Uuf5__HHc_Q8guQ</td>\n",
       "      <td>kxX2SOes4o-D3ZQBkiMRfA</td>\n",
       "      <td>5</td>\n",
       "      <td>1</td>\n",
       "      <td>0</td>\n",
       "      <td>1</td>\n",
       "      <td>Wow!  Yummy, different,  delicious.   Our favo...</td>\n",
       "      <td>2015-01-04 00:01:03</td>\n",
       "    </tr>\n",
       "    <tr>\n",
       "      <th>4</th>\n",
       "      <td>Sx8TMOWLNuJBWer-0pcmoA</td>\n",
       "      <td>bcjbaE6dDog4jkNY91ncLQ</td>\n",
       "      <td>e4Vwtrqf-wpJfwesgvdgxQ</td>\n",
       "      <td>4</td>\n",
       "      <td>1</td>\n",
       "      <td>0</td>\n",
       "      <td>1</td>\n",
       "      <td>Cute interior and owner (?) gave us tour of up...</td>\n",
       "      <td>2017-01-14 20:54:15</td>\n",
       "    </tr>\n",
       "  </tbody>\n",
       "</table>\n",
       "</div>"
      ],
      "text/plain": [
       "                review_id                 user_id             business_id  \\\n",
       "0  KU_O5udG6zpxOg-VcAEodg  mh_-eMZ6K5RLWhZyISBhwA  XQfwVwDr-v0ZS3_CbbE5Xw   \n",
       "1  BiTunyQ73aT9WBnpR9DZGw  OyoGAe7OKpv6SyGZT5g77Q  7ATYjTIgM3jUlt4UM3IypQ   \n",
       "2  saUsX_uimxRlCVr67Z4Jig  8g_iMtfSiwikVnbP2etR0A  YjUWPpI6HXG530lwP-fb2A   \n",
       "3  AqPFMleE6RsU23_auESxiA  _7bHUi9Uuf5__HHc_Q8guQ  kxX2SOes4o-D3ZQBkiMRfA   \n",
       "4  Sx8TMOWLNuJBWer-0pcmoA  bcjbaE6dDog4jkNY91ncLQ  e4Vwtrqf-wpJfwesgvdgxQ   \n",
       "\n",
       "   stars  useful  funny  cool  \\\n",
       "0      3       0      0     0   \n",
       "1      5       1      0     1   \n",
       "2      3       0      0     0   \n",
       "3      5       1      0     1   \n",
       "4      4       1      0     1   \n",
       "\n",
       "                                                text                 date  \n",
       "0  If you decide to eat here, just be aware it is...  2018-07-07 22:09:11  \n",
       "1  I've taken a lot of spin classes over the year...  2012-01-03 15:28:18  \n",
       "2  Family diner. Had the buffet. Eclectic assortm...  2014-02-05 20:30:30  \n",
       "3  Wow!  Yummy, different,  delicious.   Our favo...  2015-01-04 00:01:03  \n",
       "4  Cute interior and owner (?) gave us tour of up...  2017-01-14 20:54:15  "
      ]
     },
     "execution_count": 4,
     "metadata": {},
     "output_type": "execute_result"
    }
   ],
   "source": [
    "reviews.head()"
   ]
  },
  {
   "cell_type": "code",
   "execution_count": 5,
   "metadata": {},
   "outputs": [],
   "source": [
    "del reviews_chunk, reviews_data"
   ]
  },
  {
   "cell_type": "code",
   "execution_count": 6,
   "metadata": {},
   "outputs": [],
   "source": [
    "reviews = reviews[['user_id','business_id','stars']]"
   ]
  },
  {
   "cell_type": "code",
   "execution_count": 7,
   "metadata": {},
   "outputs": [
    {
     "data": {
      "text/html": [
       "<div>\n",
       "<style scoped>\n",
       "    .dataframe tbody tr th:only-of-type {\n",
       "        vertical-align: middle;\n",
       "    }\n",
       "\n",
       "    .dataframe tbody tr th {\n",
       "        vertical-align: top;\n",
       "    }\n",
       "\n",
       "    .dataframe thead th {\n",
       "        text-align: right;\n",
       "    }\n",
       "</style>\n",
       "<table border=\"1\" class=\"dataframe\">\n",
       "  <thead>\n",
       "    <tr style=\"text-align: right;\">\n",
       "      <th></th>\n",
       "      <th>user_id</th>\n",
       "      <th>business_id</th>\n",
       "      <th>stars</th>\n",
       "    </tr>\n",
       "  </thead>\n",
       "  <tbody>\n",
       "    <tr>\n",
       "      <th>0</th>\n",
       "      <td>mh_-eMZ6K5RLWhZyISBhwA</td>\n",
       "      <td>XQfwVwDr-v0ZS3_CbbE5Xw</td>\n",
       "      <td>3</td>\n",
       "    </tr>\n",
       "    <tr>\n",
       "      <th>1</th>\n",
       "      <td>OyoGAe7OKpv6SyGZT5g77Q</td>\n",
       "      <td>7ATYjTIgM3jUlt4UM3IypQ</td>\n",
       "      <td>5</td>\n",
       "    </tr>\n",
       "    <tr>\n",
       "      <th>2</th>\n",
       "      <td>8g_iMtfSiwikVnbP2etR0A</td>\n",
       "      <td>YjUWPpI6HXG530lwP-fb2A</td>\n",
       "      <td>3</td>\n",
       "    </tr>\n",
       "    <tr>\n",
       "      <th>3</th>\n",
       "      <td>_7bHUi9Uuf5__HHc_Q8guQ</td>\n",
       "      <td>kxX2SOes4o-D3ZQBkiMRfA</td>\n",
       "      <td>5</td>\n",
       "    </tr>\n",
       "    <tr>\n",
       "      <th>4</th>\n",
       "      <td>bcjbaE6dDog4jkNY91ncLQ</td>\n",
       "      <td>e4Vwtrqf-wpJfwesgvdgxQ</td>\n",
       "      <td>4</td>\n",
       "    </tr>\n",
       "    <tr>\n",
       "      <th>...</th>\n",
       "      <td>...</td>\n",
       "      <td>...</td>\n",
       "      <td>...</td>\n",
       "    </tr>\n",
       "    <tr>\n",
       "      <th>6990275</th>\n",
       "      <td>qskILQ3k0I_qcCMI-k6_QQ</td>\n",
       "      <td>jals67o91gcrD4DC81Vk6w</td>\n",
       "      <td>5</td>\n",
       "    </tr>\n",
       "    <tr>\n",
       "      <th>6990276</th>\n",
       "      <td>Zo0th2m8Ez4gLSbHftiQvg</td>\n",
       "      <td>2vLksaMmSEcGbjI5gywpZA</td>\n",
       "      <td>5</td>\n",
       "    </tr>\n",
       "    <tr>\n",
       "      <th>6990277</th>\n",
       "      <td>mm6E4FbCMwJmb7kPDZ5v2Q</td>\n",
       "      <td>R1khUUxidqfaJmcpmGd4aw</td>\n",
       "      <td>4</td>\n",
       "    </tr>\n",
       "    <tr>\n",
       "      <th>6990278</th>\n",
       "      <td>YwAMC-jvZ1fvEUum6QkEkw</td>\n",
       "      <td>Rr9kKArrMhSLVE9a53q-aA</td>\n",
       "      <td>5</td>\n",
       "    </tr>\n",
       "    <tr>\n",
       "      <th>6990279</th>\n",
       "      <td>6JehEvdoCvZPJ_XIxnzIIw</td>\n",
       "      <td>VAeEXLbEcI9Emt9KGYq9aA</td>\n",
       "      <td>3</td>\n",
       "    </tr>\n",
       "  </tbody>\n",
       "</table>\n",
       "<p>6990280 rows × 3 columns</p>\n",
       "</div>"
      ],
      "text/plain": [
       "                        user_id             business_id  stars\n",
       "0        mh_-eMZ6K5RLWhZyISBhwA  XQfwVwDr-v0ZS3_CbbE5Xw      3\n",
       "1        OyoGAe7OKpv6SyGZT5g77Q  7ATYjTIgM3jUlt4UM3IypQ      5\n",
       "2        8g_iMtfSiwikVnbP2etR0A  YjUWPpI6HXG530lwP-fb2A      3\n",
       "3        _7bHUi9Uuf5__HHc_Q8guQ  kxX2SOes4o-D3ZQBkiMRfA      5\n",
       "4        bcjbaE6dDog4jkNY91ncLQ  e4Vwtrqf-wpJfwesgvdgxQ      4\n",
       "...                         ...                     ...    ...\n",
       "6990275  qskILQ3k0I_qcCMI-k6_QQ  jals67o91gcrD4DC81Vk6w      5\n",
       "6990276  Zo0th2m8Ez4gLSbHftiQvg  2vLksaMmSEcGbjI5gywpZA      5\n",
       "6990277  mm6E4FbCMwJmb7kPDZ5v2Q  R1khUUxidqfaJmcpmGd4aw      4\n",
       "6990278  YwAMC-jvZ1fvEUum6QkEkw  Rr9kKArrMhSLVE9a53q-aA      5\n",
       "6990279  6JehEvdoCvZPJ_XIxnzIIw  VAeEXLbEcI9Emt9KGYq9aA      3\n",
       "\n",
       "[6990280 rows x 3 columns]"
      ]
     },
     "execution_count": 7,
     "metadata": {},
     "output_type": "execute_result"
    }
   ],
   "source": [
    "reviews"
   ]
  },
  {
   "cell_type": "code",
   "execution_count": 8,
   "metadata": {},
   "outputs": [
    {
     "name": "stdout",
     "output_type": "stream",
     "text": [
      "Wall time: 5.7 s\n"
     ]
    }
   ],
   "source": [
    "%%time\n",
    "train_data, test_data = train_test_split(reviews, test_size=0.2)"
   ]
  },
  {
   "cell_type": "code",
   "execution_count": 9,
   "metadata": {},
   "outputs": [
    {
     "name": "stdout",
     "output_type": "stream",
     "text": [
      "(5592224, 3)\n",
      "(1398056, 3)\n"
     ]
    }
   ],
   "source": [
    "print(train_data.shape)\n",
    "print(test_data.shape)"
   ]
  },
  {
   "cell_type": "code",
   "execution_count": 10,
   "metadata": {},
   "outputs": [
    {
     "name": "stdout",
     "output_type": "stream",
     "text": [
      "Wall time: 17.6 s\n"
     ]
    }
   ],
   "source": [
    "%%time\n",
    "user_encoder = LabelEncoder()\n",
    "business_encoder = LabelEncoder()\n",
    "\n",
    "train_data['user_id_encoded'] = user_encoder.fit_transform(train_data['user_id'])\n",
    "train_data['business_id_encoded'] = business_encoder.fit_transform(train_data['business_id'])"
   ]
  },
  {
   "cell_type": "code",
   "execution_count": 11,
   "metadata": {},
   "outputs": [
    {
     "data": {
      "text/plain": [
       "(1745868, 150342)"
      ]
     },
     "execution_count": 11,
     "metadata": {},
     "output_type": "execute_result"
    }
   ],
   "source": [
    "len(user_encoder.classes_), len(business_encoder.classes_)"
   ]
  },
  {
   "cell_type": "code",
   "execution_count": 12,
   "metadata": {},
   "outputs": [],
   "source": [
    "test_data = test_data[test_data['user_id'].isin(user_encoder.classes_)]\n",
    "test_data = test_data[test_data['business_id'].isin(business_encoder.classes_)]"
   ]
  },
  {
   "cell_type": "code",
   "execution_count": 13,
   "metadata": {},
   "outputs": [
    {
     "name": "stdout",
     "output_type": "stream",
     "text": [
      "(5592224, 5)\n",
      "(1140174, 3)\n"
     ]
    }
   ],
   "source": [
    "print(train_data.shape)\n",
    "print(test_data.shape)"
   ]
  },
  {
   "cell_type": "code",
   "execution_count": 14,
   "metadata": {},
   "outputs": [],
   "source": [
    "test_data['user_id_encoded'] = user_encoder.transform(test_data['user_id'])\n",
    "test_data['business_id_encoded'] = business_encoder.transform(test_data['business_id'])"
   ]
  },
  {
   "cell_type": "code",
   "execution_count": 15,
   "metadata": {},
   "outputs": [
    {
     "data": {
      "text/html": [
       "<div>\n",
       "<style scoped>\n",
       "    .dataframe tbody tr th:only-of-type {\n",
       "        vertical-align: middle;\n",
       "    }\n",
       "\n",
       "    .dataframe tbody tr th {\n",
       "        vertical-align: top;\n",
       "    }\n",
       "\n",
       "    .dataframe thead th {\n",
       "        text-align: right;\n",
       "    }\n",
       "</style>\n",
       "<table border=\"1\" class=\"dataframe\">\n",
       "  <thead>\n",
       "    <tr style=\"text-align: right;\">\n",
       "      <th></th>\n",
       "      <th>user_id</th>\n",
       "      <th>business_id</th>\n",
       "      <th>stars</th>\n",
       "      <th>user_id_encoded</th>\n",
       "      <th>business_id_encoded</th>\n",
       "    </tr>\n",
       "  </thead>\n",
       "  <tbody>\n",
       "    <tr>\n",
       "      <th>6778669</th>\n",
       "      <td>ZVeO6CnkEvkvW30WQFB6eQ</td>\n",
       "      <td>hXGIMryL90iWW-gPzYEpUA</td>\n",
       "      <td>2</td>\n",
       "      <td>996707</td>\n",
       "      <td>106759</td>\n",
       "    </tr>\n",
       "    <tr>\n",
       "      <th>6878193</th>\n",
       "      <td>cZCOdn_bIKw78mNb8PhKLg</td>\n",
       "      <td>5l8nLbyo7altE7HluWq1Bg</td>\n",
       "      <td>5</td>\n",
       "      <td>1107269</td>\n",
       "      <td>16055</td>\n",
       "    </tr>\n",
       "    <tr>\n",
       "      <th>3390267</th>\n",
       "      <td>DDItoaNRmJJYrhJGz4ZJ3w</td>\n",
       "      <td>yXX7xmclZkuBif-7QoyCuw</td>\n",
       "      <td>3</td>\n",
       "      <td>389213</td>\n",
       "      <td>146911</td>\n",
       "    </tr>\n",
       "    <tr>\n",
       "      <th>2560864</th>\n",
       "      <td>AFNBY21DdTZ_pH5TWZzQ9g</td>\n",
       "      <td>4EXm70lqkCxZ-WtgNon8sw</td>\n",
       "      <td>1</td>\n",
       "      <td>308062</td>\n",
       "      <td>12433</td>\n",
       "    </tr>\n",
       "    <tr>\n",
       "      <th>3447431</th>\n",
       "      <td>LbpZOMwcfB6yAiSiyOoiDg</td>\n",
       "      <td>Lmstm1D0Ch8QP1b2TB-tVw</td>\n",
       "      <td>5</td>\n",
       "      <td>618602</td>\n",
       "      <td>53461</td>\n",
       "    </tr>\n",
       "    <tr>\n",
       "      <th>...</th>\n",
       "      <td>...</td>\n",
       "      <td>...</td>\n",
       "      <td>...</td>\n",
       "      <td>...</td>\n",
       "      <td>...</td>\n",
       "    </tr>\n",
       "    <tr>\n",
       "      <th>5167331</th>\n",
       "      <td>QXPbWV6RMMnKpUNIaYMCuQ</td>\n",
       "      <td>Bgv4BhVzBOPkbcgNUzdgcA</td>\n",
       "      <td>1</td>\n",
       "      <td>752419</td>\n",
       "      <td>30115</td>\n",
       "    </tr>\n",
       "    <tr>\n",
       "      <th>3517100</th>\n",
       "      <td>ourE_S1OyE2vv3o-Fle_kA</td>\n",
       "      <td>thlyktt2c7v1DyOpSVSibw</td>\n",
       "      <td>4</td>\n",
       "      <td>1444259</td>\n",
       "      <td>135374</td>\n",
       "    </tr>\n",
       "    <tr>\n",
       "      <th>3073084</th>\n",
       "      <td>41a6Rh82q6gr4hHjNpo1aA</td>\n",
       "      <td>IsNdI6kw8GlAopKCpEGt9w</td>\n",
       "      <td>5</td>\n",
       "      <td>138011</td>\n",
       "      <td>46661</td>\n",
       "    </tr>\n",
       "    <tr>\n",
       "      <th>2614662</th>\n",
       "      <td>inzMgE6PWlzDR7J80r9o5Q</td>\n",
       "      <td>h_D-p_m3diwqlAHQsOUjCA</td>\n",
       "      <td>5</td>\n",
       "      <td>1278146</td>\n",
       "      <td>106863</td>\n",
       "    </tr>\n",
       "    <tr>\n",
       "      <th>6159449</th>\n",
       "      <td>X6GDMJHK7qOKq6bCop-cYQ</td>\n",
       "      <td>LIi2RmAXQggdSDLp7cZiyQ</td>\n",
       "      <td>1</td>\n",
       "      <td>931595</td>\n",
       "      <td>52382</td>\n",
       "    </tr>\n",
       "  </tbody>\n",
       "</table>\n",
       "<p>5592224 rows × 5 columns</p>\n",
       "</div>"
      ],
      "text/plain": [
       "                        user_id             business_id  stars  \\\n",
       "6778669  ZVeO6CnkEvkvW30WQFB6eQ  hXGIMryL90iWW-gPzYEpUA      2   \n",
       "6878193  cZCOdn_bIKw78mNb8PhKLg  5l8nLbyo7altE7HluWq1Bg      5   \n",
       "3390267  DDItoaNRmJJYrhJGz4ZJ3w  yXX7xmclZkuBif-7QoyCuw      3   \n",
       "2560864  AFNBY21DdTZ_pH5TWZzQ9g  4EXm70lqkCxZ-WtgNon8sw      1   \n",
       "3447431  LbpZOMwcfB6yAiSiyOoiDg  Lmstm1D0Ch8QP1b2TB-tVw      5   \n",
       "...                         ...                     ...    ...   \n",
       "5167331  QXPbWV6RMMnKpUNIaYMCuQ  Bgv4BhVzBOPkbcgNUzdgcA      1   \n",
       "3517100  ourE_S1OyE2vv3o-Fle_kA  thlyktt2c7v1DyOpSVSibw      4   \n",
       "3073084  41a6Rh82q6gr4hHjNpo1aA  IsNdI6kw8GlAopKCpEGt9w      5   \n",
       "2614662  inzMgE6PWlzDR7J80r9o5Q  h_D-p_m3diwqlAHQsOUjCA      5   \n",
       "6159449  X6GDMJHK7qOKq6bCop-cYQ  LIi2RmAXQggdSDLp7cZiyQ      1   \n",
       "\n",
       "         user_id_encoded  business_id_encoded  \n",
       "6778669           996707               106759  \n",
       "6878193          1107269                16055  \n",
       "3390267           389213               146911  \n",
       "2560864           308062                12433  \n",
       "3447431           618602                53461  \n",
       "...                  ...                  ...  \n",
       "5167331           752419                30115  \n",
       "3517100          1444259               135374  \n",
       "3073084           138011                46661  \n",
       "2614662          1278146               106863  \n",
       "6159449           931595                52382  \n",
       "\n",
       "[5592224 rows x 5 columns]"
      ]
     },
     "execution_count": 15,
     "metadata": {},
     "output_type": "execute_result"
    }
   ],
   "source": [
    "train_data"
   ]
  },
  {
   "cell_type": "code",
   "execution_count": 16,
   "metadata": {},
   "outputs": [
    {
     "data": {
      "text/html": [
       "<div>\n",
       "<style scoped>\n",
       "    .dataframe tbody tr th:only-of-type {\n",
       "        vertical-align: middle;\n",
       "    }\n",
       "\n",
       "    .dataframe tbody tr th {\n",
       "        vertical-align: top;\n",
       "    }\n",
       "\n",
       "    .dataframe thead th {\n",
       "        text-align: right;\n",
       "    }\n",
       "</style>\n",
       "<table border=\"1\" class=\"dataframe\">\n",
       "  <thead>\n",
       "    <tr style=\"text-align: right;\">\n",
       "      <th></th>\n",
       "      <th>user_id</th>\n",
       "      <th>business_id</th>\n",
       "      <th>stars</th>\n",
       "      <th>user_id_encoded</th>\n",
       "      <th>business_id_encoded</th>\n",
       "    </tr>\n",
       "  </thead>\n",
       "  <tbody>\n",
       "    <tr>\n",
       "      <th>239472</th>\n",
       "      <td>9zG2PRZnMGe5F29a5NK6Rw</td>\n",
       "      <td>dNR-b-CsrFGYhMo9zLMrCw</td>\n",
       "      <td>4</td>\n",
       "      <td>300751</td>\n",
       "      <td>96934</td>\n",
       "    </tr>\n",
       "    <tr>\n",
       "      <th>4281013</th>\n",
       "      <td>It0-Upv_-6FxbMjjGjLeyg</td>\n",
       "      <td>3EJr6A23wLRPlekclGwHlA</td>\n",
       "      <td>5</td>\n",
       "      <td>544028</td>\n",
       "      <td>10115</td>\n",
       "    </tr>\n",
       "    <tr>\n",
       "      <th>5287599</th>\n",
       "      <td>NSwhq-KFFoatc8jKb8lrJw</td>\n",
       "      <td>KdAWjL9MKjpJzEeI902qBA</td>\n",
       "      <td>5</td>\n",
       "      <td>668639</td>\n",
       "      <td>50815</td>\n",
       "    </tr>\n",
       "    <tr>\n",
       "      <th>2624227</th>\n",
       "      <td>fMrV62gzDWGEtCgD-xcS6g</td>\n",
       "      <td>-QI8Qi8XWH3D8y8ethnajA</td>\n",
       "      <td>2</td>\n",
       "      <td>1184061</td>\n",
       "      <td>989</td>\n",
       "    </tr>\n",
       "    <tr>\n",
       "      <th>1566589</th>\n",
       "      <td>tL0M8q1-3ojo_UAG1FfhWA</td>\n",
       "      <td>jeiV-bDLPmo0AhBZGF8v4w</td>\n",
       "      <td>5</td>\n",
       "      <td>1564772</td>\n",
       "      <td>111749</td>\n",
       "    </tr>\n",
       "    <tr>\n",
       "      <th>...</th>\n",
       "      <td>...</td>\n",
       "      <td>...</td>\n",
       "      <td>...</td>\n",
       "      <td>...</td>\n",
       "      <td>...</td>\n",
       "    </tr>\n",
       "    <tr>\n",
       "      <th>5830488</th>\n",
       "      <td>3CoSdSKcBeL6td6y56Ge4g</td>\n",
       "      <td>VUkBbffnuUpKX9MKRUt4yQ</td>\n",
       "      <td>5</td>\n",
       "      <td>115265</td>\n",
       "      <td>76212</td>\n",
       "    </tr>\n",
       "    <tr>\n",
       "      <th>6328293</th>\n",
       "      <td>D6pRYr5uPPpe9O0dMsS9Nw</td>\n",
       "      <td>jIuRCFtO7rEOezPAn7rCQg</td>\n",
       "      <td>5</td>\n",
       "      <td>386377</td>\n",
       "      <td>110898</td>\n",
       "    </tr>\n",
       "    <tr>\n",
       "      <th>644602</th>\n",
       "      <td>N5zjh9ato1iHAjou4DM1lQ</td>\n",
       "      <td>5CZIGD5oNpS5gQTiVxHCdg</td>\n",
       "      <td>5</td>\n",
       "      <td>658870</td>\n",
       "      <td>14747</td>\n",
       "    </tr>\n",
       "    <tr>\n",
       "      <th>985146</th>\n",
       "      <td>kIkw_hlSkANX5_xwwW1amw</td>\n",
       "      <td>4_-IcMpkF_sBRHomWZHNzA</td>\n",
       "      <td>5</td>\n",
       "      <td>1319135</td>\n",
       "      <td>13184</td>\n",
       "    </tr>\n",
       "    <tr>\n",
       "      <th>708897</th>\n",
       "      <td>DxLeV9DjaiKwcbvYFvHv-A</td>\n",
       "      <td>AODksDNj5mH953cyhUG1Qw</td>\n",
       "      <td>5</td>\n",
       "      <td>409024</td>\n",
       "      <td>26986</td>\n",
       "    </tr>\n",
       "  </tbody>\n",
       "</table>\n",
       "<p>1139960 rows × 5 columns</p>\n",
       "</div>"
      ],
      "text/plain": [
       "                        user_id             business_id  stars  \\\n",
       "239472   9zG2PRZnMGe5F29a5NK6Rw  dNR-b-CsrFGYhMo9zLMrCw      4   \n",
       "4281013  It0-Upv_-6FxbMjjGjLeyg  3EJr6A23wLRPlekclGwHlA      5   \n",
       "5287599  NSwhq-KFFoatc8jKb8lrJw  KdAWjL9MKjpJzEeI902qBA      5   \n",
       "2624227  fMrV62gzDWGEtCgD-xcS6g  -QI8Qi8XWH3D8y8ethnajA      2   \n",
       "1566589  tL0M8q1-3ojo_UAG1FfhWA  jeiV-bDLPmo0AhBZGF8v4w      5   \n",
       "...                         ...                     ...    ...   \n",
       "5830488  3CoSdSKcBeL6td6y56Ge4g  VUkBbffnuUpKX9MKRUt4yQ      5   \n",
       "6328293  D6pRYr5uPPpe9O0dMsS9Nw  jIuRCFtO7rEOezPAn7rCQg      5   \n",
       "644602   N5zjh9ato1iHAjou4DM1lQ  5CZIGD5oNpS5gQTiVxHCdg      5   \n",
       "985146   kIkw_hlSkANX5_xwwW1amw  4_-IcMpkF_sBRHomWZHNzA      5   \n",
       "708897   DxLeV9DjaiKwcbvYFvHv-A  AODksDNj5mH953cyhUG1Qw      5   \n",
       "\n",
       "         user_id_encoded  business_id_encoded  \n",
       "239472            300751                96934  \n",
       "4281013           544028                10115  \n",
       "5287599           668639                50815  \n",
       "2624227          1184061                  989  \n",
       "1566589          1564772               111749  \n",
       "...                  ...                  ...  \n",
       "5830488           115265                76212  \n",
       "6328293           386377               110898  \n",
       "644602            658870                14747  \n",
       "985146           1319135                13184  \n",
       "708897            409024                26986  \n",
       "\n",
       "[1139960 rows x 5 columns]"
      ]
     },
     "execution_count": 16,
     "metadata": {},
     "output_type": "execute_result"
    }
   ],
   "source": [
    "test_data"
   ]
  },
  {
   "cell_type": "code",
   "execution_count": 17,
   "metadata": {},
   "outputs": [
    {
     "name": "stdout",
     "output_type": "stream",
     "text": [
      "GPU device found: /device:GPU:0\n"
     ]
    }
   ],
   "source": [
    "if tf.test.gpu_device_name():\n",
    "    print('GPU device found: {}'.format(tf.test.gpu_device_name()))\n",
    "else:\n",
    "    print(\"No GPU device found. Training on CPU.\")"
   ]
  },
  {
   "cell_type": "code",
   "execution_count": 18,
   "metadata": {},
   "outputs": [
    {
     "name": "stdout",
     "output_type": "stream",
     "text": [
      "Unique Users: 1746009, Unique Businesses: 150339\n"
     ]
    }
   ],
   "source": [
    "num_users = len(user_encoder.classes_)\n",
    "num_businesses = len(business_encoder.classes_)\n",
    "\n",
    "print(f\"Unique Users: {num_users}, Unique Businesses: {num_businesses}\")"
   ]
  },
  {
   "cell_type": "code",
   "execution_count": 19,
   "metadata": {},
   "outputs": [
    {
     "name": "stdout",
     "output_type": "stream",
     "text": [
      "Model: \"model\"\n",
      "__________________________________________________________________________________________________\n",
      " Layer (type)                   Output Shape         Param #     Connected to                     \n",
      "==================================================================================================\n",
      " user_input (InputLayer)        [(None, 1)]          0           []                               \n",
      "                                                                                                  \n",
      " business_input (InputLayer)    [(None, 1)]          0           []                               \n",
      "                                                                                                  \n",
      " embedding (Embedding)          (None, 1, 50)        87300450    ['user_input[0][0]']             \n",
      "                                                                                                  \n",
      " embedding_1 (Embedding)        (None, 1, 50)        7516950     ['business_input[0][0]']         \n",
      "                                                                                                  \n",
      " flatten (Flatten)              (None, 50)           0           ['embedding[0][0]']              \n",
      "                                                                                                  \n",
      " flatten_1 (Flatten)            (None, 50)           0           ['embedding_1[0][0]']            \n",
      "                                                                                                  \n",
      " concatenate (Concatenate)      (None, 100)          0           ['flatten[0][0]',                \n",
      "                                                                  'flatten_1[0][0]']              \n",
      "                                                                                                  \n",
      " dense (Dense)                  (None, 64)           6464        ['concatenate[0][0]']            \n",
      "                                                                                                  \n",
      " dense_1 (Dense)                (None, 1)            65          ['dense[0][0]']                  \n",
      "                                                                                                  \n",
      "==================================================================================================\n",
      "Total params: 94,823,929\n",
      "Trainable params: 94,823,929\n",
      "Non-trainable params: 0\n",
      "__________________________________________________________________________________________________\n"
     ]
    }
   ],
   "source": [
    "embedding_dim=50\n",
    "\n",
    "# User and business input layers\n",
    "user_input = Input(shape=(1,), name='user_input')\n",
    "business_input = Input(shape=(1,), name='business_input')\n",
    "\n",
    "# Embedding layers for user and business IDs\n",
    "user_embedding = Embedding(input_dim=num_users, output_dim=embedding_dim)(user_input)\n",
    "business_embedding = Embedding(input_dim=num_businesses, output_dim=embedding_dim)(business_input)\n",
    "\n",
    "# Flatten the embeddings\n",
    "user_flatten = Flatten()(user_embedding)\n",
    "business_flatten = Flatten()(business_embedding)\n",
    "\n",
    "# Merge the embeddings using concat\n",
    "merged = Concatenate()([user_flatten, business_flatten])\n",
    "\n",
    "# Add some dense layers for additional modeling\n",
    "dense_layer = Dense(64, activation='relu')(merged)\n",
    "output_layer = Dense(1, activation='linear')(dense_layer)\n",
    "\n",
    "model = Model(inputs=[user_input, business_input], outputs=output_layer)\n",
    "model.compile(loss='mean_squared_error', optimizer='adam', metrics=['mae'])\n",
    "model.summary()"
   ]
  },
  {
   "cell_type": "code",
   "execution_count": 20,
   "metadata": {},
   "outputs": [],
   "source": [
    "batch_size = 32\n",
    "epochs = 10\n",
    "\n",
    "user_ids = train_data['user_id_encoded'].values\n",
    "business_ids = train_data['business_id_encoded'].values\n",
    "stars = train_data['stars'].values"
   ]
  },
  {
   "cell_type": "code",
   "execution_count": 21,
   "metadata": {},
   "outputs": [],
   "source": [
    "model_checkpoint = ModelCheckpoint(f'saved/model.h5', \n",
    "                             monitor='val_loss',   # Monitor validation loss\n",
    "                             save_best_only=True,  # Save only the best model\n",
    "                             mode='min'            # Mode of monitoring (minimize validation loss)\n",
    "                            )\n",
    "\n",
    "early_stopping = EarlyStopping(monitor='val_loss',\n",
    "                               patience=1,\n",
    "                               restore_best_weights=True\n",
    "                              )"
   ]
  },
  {
   "cell_type": "code",
   "execution_count": null,
   "metadata": {},
   "outputs": [],
   "source": [
    "history = model.fit(\n",
    "    [user_ids, business_ids],\n",
    "    stars,\n",
    "    batch_size=batch_size,\n",
    "    epochs=epochs,\n",
    "    validation_split=0.2\n",
    ")"
   ]
  },
  {
   "cell_type": "code",
   "execution_count": null,
   "metadata": {},
   "outputs": [],
   "source": []
  },
  {
   "cell_type": "code",
   "execution_count": null,
   "metadata": {},
   "outputs": [],
   "source": [
    "del reviews, train_data"
   ]
  },
  {
   "cell_type": "code",
   "execution_count": 2,
   "metadata": {},
   "outputs": [
    {
     "ename": "TypeError",
     "evalue": "weight_decay is not a valid argument, kwargs should be empty  for `optimizer_experimental.Optimizer`.",
     "output_type": "error",
     "traceback": [
      "\u001b[1;31m---------------------------------------------------------------------------\u001b[0m",
      "\u001b[1;31mTypeError\u001b[0m                                 Traceback (most recent call last)",
      "\u001b[1;32m<ipython-input-2-833aa19bcde8>\u001b[0m in \u001b[0;36m<module>\u001b[1;34m\u001b[0m\n\u001b[1;32m----> 1\u001b[1;33m \u001b[0mmodel\u001b[0m \u001b[1;33m=\u001b[0m \u001b[0mload_model\u001b[0m\u001b[1;33m(\u001b[0m\u001b[1;34m\"../saved/model.h5\"\u001b[0m\u001b[1;33m)\u001b[0m\u001b[1;33m\u001b[0m\u001b[1;33m\u001b[0m\u001b[0m\n\u001b[0m\u001b[0;32m      2\u001b[0m \u001b[0mmodel\u001b[0m\u001b[1;33m.\u001b[0m\u001b[0msummary\u001b[0m\u001b[1;33m(\u001b[0m\u001b[1;33m)\u001b[0m\u001b[1;33m\u001b[0m\u001b[1;33m\u001b[0m\u001b[0m\n",
      "\u001b[1;32m~\\Anaconda3\\lib\\site-packages\\keras\\utils\\traceback_utils.py\u001b[0m in \u001b[0;36merror_handler\u001b[1;34m(*args, **kwargs)\u001b[0m\n\u001b[0;32m     65\u001b[0m     \u001b[1;32mexcept\u001b[0m \u001b[0mException\u001b[0m \u001b[1;32mas\u001b[0m \u001b[0me\u001b[0m\u001b[1;33m:\u001b[0m  \u001b[1;31m# pylint: disable=broad-except\u001b[0m\u001b[1;33m\u001b[0m\u001b[1;33m\u001b[0m\u001b[0m\n\u001b[0;32m     66\u001b[0m       \u001b[0mfiltered_tb\u001b[0m \u001b[1;33m=\u001b[0m \u001b[0m_process_traceback_frames\u001b[0m\u001b[1;33m(\u001b[0m\u001b[0me\u001b[0m\u001b[1;33m.\u001b[0m\u001b[0m__traceback__\u001b[0m\u001b[1;33m)\u001b[0m\u001b[1;33m\u001b[0m\u001b[1;33m\u001b[0m\u001b[0m\n\u001b[1;32m---> 67\u001b[1;33m       \u001b[1;32mraise\u001b[0m \u001b[0me\u001b[0m\u001b[1;33m.\u001b[0m\u001b[0mwith_traceback\u001b[0m\u001b[1;33m(\u001b[0m\u001b[0mfiltered_tb\u001b[0m\u001b[1;33m)\u001b[0m \u001b[1;32mfrom\u001b[0m \u001b[1;32mNone\u001b[0m\u001b[1;33m\u001b[0m\u001b[1;33m\u001b[0m\u001b[0m\n\u001b[0m\u001b[0;32m     68\u001b[0m     \u001b[1;32mfinally\u001b[0m\u001b[1;33m:\u001b[0m\u001b[1;33m\u001b[0m\u001b[1;33m\u001b[0m\u001b[0m\n\u001b[0;32m     69\u001b[0m       \u001b[1;32mdel\u001b[0m \u001b[0mfiltered_tb\u001b[0m\u001b[1;33m\u001b[0m\u001b[1;33m\u001b[0m\u001b[0m\n",
      "\u001b[1;32m~\\Anaconda3\\lib\\site-packages\\keras\\optimizer_experimental\\optimizer.py\u001b[0m in \u001b[0;36m_process_kwargs\u001b[1;34m(self, kwargs)\u001b[0m\n\u001b[0;32m     84\u001b[0m             \", please check the docstring for valid arguments.\", k)\n\u001b[0;32m     85\u001b[0m       \u001b[1;32melse\u001b[0m\u001b[1;33m:\u001b[0m\u001b[1;33m\u001b[0m\u001b[1;33m\u001b[0m\u001b[0m\n\u001b[1;32m---> 86\u001b[1;33m         raise TypeError(f\"{k} is not a valid argument, kwargs should be empty \"\n\u001b[0m\u001b[0;32m     87\u001b[0m                         \" for `optimizer_experimental.Optimizer`.\")\n\u001b[0;32m     88\u001b[0m \u001b[1;33m\u001b[0m\u001b[0m\n",
      "\u001b[1;31mTypeError\u001b[0m: weight_decay is not a valid argument, kwargs should be empty  for `optimizer_experimental.Optimizer`."
     ]
    }
   ],
   "source": [
    "model = load_model(\"../saved/model.h5\")\n",
    "model.summary()"
   ]
  },
  {
   "cell_type": "code",
   "execution_count": null,
   "metadata": {},
   "outputs": [],
   "source": []
  }
 ],
 "metadata": {
  "kernelspec": {
   "display_name": "Python 3",
   "language": "python",
   "name": "python3"
  },
  "language_info": {
   "codemirror_mode": {
    "name": "ipython",
    "version": 3
   },
   "file_extension": ".py",
   "mimetype": "text/x-python",
   "name": "python",
   "nbconvert_exporter": "python",
   "pygments_lexer": "ipython3",
   "version": "3.7.4"
  }
 },
 "nbformat": 4,
 "nbformat_minor": 4
}
