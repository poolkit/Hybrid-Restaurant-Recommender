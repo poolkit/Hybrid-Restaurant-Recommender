{
 "cells": [
  {
   "cell_type": "code",
   "execution_count": 81,
   "metadata": {},
   "outputs": [],
   "source": [
    "import pandas as pd\n",
    "import numpy as np\n",
    "import matplotlib.pyplot as plt\n",
    "import hashlib\n",
    "\n",
    "from sklearn.preprocessing import LabelEncoder\n",
    "from sklearn.model_selection import train_test_split\n",
    "from sklearn.metrics import mean_squared_error, mean_absolute_error\n",
    "\n",
    "import tensorflow as tf\n",
    "from tensorflow.keras.layers import Embedding, Flatten, Input, Dot, Concatenate, Dense, Dropout, BatchNormalization\n",
    "from tensorflow.keras.models import Model, load_model\n",
    "from tensorflow.keras.regularizers import l2\n",
    "from tensorflow.keras.callbacks import EarlyStopping, ModelCheckpoint\n",
    "\n",
    "pd.set_option('display.max_columns', None)"
   ]
  },
  {
   "cell_type": "code",
   "execution_count": 98,
   "metadata": {},
   "outputs": [],
   "source": [
    "reviews = pd.read_csv('../dataset/processed/reviews.csv')"
   ]
  },
  {
   "cell_type": "code",
   "execution_count": 99,
   "metadata": {},
   "outputs": [
    {
     "name": "stdout",
     "output_type": "stream",
     "text": [
      "<class 'pandas.core.frame.DataFrame'>\n",
      "RangeIndex: 419344 entries, 0 to 419343\n",
      "Data columns (total 3 columns):\n",
      " #   Column       Non-Null Count   Dtype \n",
      "---  ------       --------------   ----- \n",
      " 0   user_id      419344 non-null  object\n",
      " 1   business_id  419344 non-null  object\n",
      " 2   stars        419344 non-null  int64 \n",
      "dtypes: int64(1), object(2)\n",
      "memory usage: 9.6+ MB\n"
     ]
    }
   ],
   "source": [
    "reviews.info()"
   ]
  },
  {
   "cell_type": "code",
   "execution_count": 101,
   "metadata": {},
   "outputs": [],
   "source": [
    "reviews = reviews.drop_duplicates()"
   ]
  },
  {
   "cell_type": "code",
   "execution_count": 102,
   "metadata": {},
   "outputs": [
    {
     "data": {
      "text/html": [
       "<div>\n",
       "<style scoped>\n",
       "    .dataframe tbody tr th:only-of-type {\n",
       "        vertical-align: middle;\n",
       "    }\n",
       "\n",
       "    .dataframe tbody tr th {\n",
       "        vertical-align: top;\n",
       "    }\n",
       "\n",
       "    .dataframe thead th {\n",
       "        text-align: right;\n",
       "    }\n",
       "</style>\n",
       "<table border=\"1\" class=\"dataframe\">\n",
       "  <thead>\n",
       "    <tr style=\"text-align: right;\">\n",
       "      <th></th>\n",
       "      <th>user_id</th>\n",
       "      <th>business_id</th>\n",
       "      <th>stars</th>\n",
       "    </tr>\n",
       "  </thead>\n",
       "  <tbody>\n",
       "    <tr>\n",
       "      <th>0</th>\n",
       "      <td>mh_-eMZ6K5RLWhZyISBhwA</td>\n",
       "      <td>d_tRshM-w6S4QxE4VVi8tQ</td>\n",
       "      <td>0.6</td>\n",
       "    </tr>\n",
       "    <tr>\n",
       "      <th>1</th>\n",
       "      <td>Zs8Zk3sgh5JxRmoZW4PJcg</td>\n",
       "      <td>d_tRshM-w6S4QxE4VVi8tQ</td>\n",
       "      <td>0.4</td>\n",
       "    </tr>\n",
       "    <tr>\n",
       "      <th>2</th>\n",
       "      <td>OkjeFppodgJP_CvB84cJYw</td>\n",
       "      <td>d_tRshM-w6S4QxE4VVi8tQ</td>\n",
       "      <td>0.6</td>\n",
       "    </tr>\n",
       "    <tr>\n",
       "      <th>3</th>\n",
       "      <td>11xwVSDv1ytjcyvUiyBWaw</td>\n",
       "      <td>d_tRshM-w6S4QxE4VVi8tQ</td>\n",
       "      <td>0.8</td>\n",
       "    </tr>\n",
       "    <tr>\n",
       "      <th>4</th>\n",
       "      <td>8EMU7d4pCkdqUnvlIW40CA</td>\n",
       "      <td>d_tRshM-w6S4QxE4VVi8tQ</td>\n",
       "      <td>0.8</td>\n",
       "    </tr>\n",
       "  </tbody>\n",
       "</table>\n",
       "</div>"
      ],
      "text/plain": [
       "                  user_id             business_id  stars\n",
       "0  mh_-eMZ6K5RLWhZyISBhwA  d_tRshM-w6S4QxE4VVi8tQ    0.6\n",
       "1  Zs8Zk3sgh5JxRmoZW4PJcg  d_tRshM-w6S4QxE4VVi8tQ    0.4\n",
       "2  OkjeFppodgJP_CvB84cJYw  d_tRshM-w6S4QxE4VVi8tQ    0.6\n",
       "3  11xwVSDv1ytjcyvUiyBWaw  d_tRshM-w6S4QxE4VVi8tQ    0.8\n",
       "4  8EMU7d4pCkdqUnvlIW40CA  d_tRshM-w6S4QxE4VVi8tQ    0.8"
      ]
     },
     "execution_count": 102,
     "metadata": {},
     "output_type": "execute_result"
    }
   ],
   "source": [
    "reviews.head()"
   ]
  },
  {
   "cell_type": "code",
   "execution_count": 103,
   "metadata": {},
   "outputs": [
    {
     "name": "stdout",
     "output_type": "stream",
     "text": [
      "Wall time: 65.7 ms\n"
     ]
    }
   ],
   "source": [
    "%%time\n",
    "train_data, test_data = train_test_split(reviews, test_size=0.2)"
   ]
  },
  {
   "cell_type": "code",
   "execution_count": 104,
   "metadata": {},
   "outputs": [
    {
     "name": "stdout",
     "output_type": "stream",
     "text": [
      "(328840, 3)\n",
      "(82211, 3)\n"
     ]
    }
   ],
   "source": [
    "print(train_data.shape)\n",
    "print(test_data.shape)"
   ]
  },
  {
   "cell_type": "code",
   "execution_count": 105,
   "metadata": {},
   "outputs": [
    {
     "name": "stdout",
     "output_type": "stream",
     "text": [
      "Wall time: 290 ms\n"
     ]
    }
   ],
   "source": [
    "%%time\n",
    "user_encoder = LabelEncoder()\n",
    "business_encoder = LabelEncoder()\n",
    "\n",
    "train_data['user_id_encoded'] = user_encoder.fit_transform(train_data['user_id'])\n",
    "train_data['business_id_encoded'] = business_encoder.fit_transform(train_data['business_id'])"
   ]
  },
  {
   "cell_type": "code",
   "execution_count": 106,
   "metadata": {},
   "outputs": [
    {
     "data": {
      "text/plain": [
       "(60263, 3828)"
      ]
     },
     "execution_count": 106,
     "metadata": {},
     "output_type": "execute_result"
    }
   ],
   "source": [
    "len(user_encoder.classes_), len(business_encoder.classes_)"
   ]
  },
  {
   "cell_type": "code",
   "execution_count": 107,
   "metadata": {},
   "outputs": [],
   "source": [
    "test_data = test_data[test_data['user_id'].isin(user_encoder.classes_)]\n",
    "test_data = test_data[test_data['business_id'].isin(business_encoder.classes_)]"
   ]
  },
  {
   "cell_type": "code",
   "execution_count": 108,
   "metadata": {},
   "outputs": [
    {
     "name": "stdout",
     "output_type": "stream",
     "text": [
      "(328840, 5)\n",
      "(75350, 3)\n"
     ]
    }
   ],
   "source": [
    "print(train_data.shape)\n",
    "print(test_data.shape)"
   ]
  },
  {
   "cell_type": "code",
   "execution_count": 109,
   "metadata": {},
   "outputs": [],
   "source": [
    "test_data['user_id_encoded'] = user_encoder.transform(test_data['user_id'])\n",
    "test_data['business_id_encoded'] = business_encoder.transform(test_data['business_id'])"
   ]
  },
  {
   "cell_type": "code",
   "execution_count": 110,
   "metadata": {},
   "outputs": [
    {
     "data": {
      "text/html": [
       "<div>\n",
       "<style scoped>\n",
       "    .dataframe tbody tr th:only-of-type {\n",
       "        vertical-align: middle;\n",
       "    }\n",
       "\n",
       "    .dataframe tbody tr th {\n",
       "        vertical-align: top;\n",
       "    }\n",
       "\n",
       "    .dataframe thead th {\n",
       "        text-align: right;\n",
       "    }\n",
       "</style>\n",
       "<table border=\"1\" class=\"dataframe\">\n",
       "  <thead>\n",
       "    <tr style=\"text-align: right;\">\n",
       "      <th></th>\n",
       "      <th>user_id</th>\n",
       "      <th>business_id</th>\n",
       "      <th>stars</th>\n",
       "      <th>user_id_encoded</th>\n",
       "      <th>business_id_encoded</th>\n",
       "    </tr>\n",
       "  </thead>\n",
       "  <tbody>\n",
       "    <tr>\n",
       "      <th>336382</th>\n",
       "      <td>KWrJZDQXkrt9vzQDh9iqJQ</td>\n",
       "      <td>4gvAsj8NRTla82aSBzGytw</td>\n",
       "      <td>0.8</td>\n",
       "      <td>20384</td>\n",
       "      <td>330</td>\n",
       "    </tr>\n",
       "    <tr>\n",
       "      <th>4528</th>\n",
       "      <td>tugozkS2AcmfOR99RdUxjQ</td>\n",
       "      <td>0oSSjekU-3GR8gselReWnA</td>\n",
       "      <td>1.0</td>\n",
       "      <td>54609</td>\n",
       "      <td>106</td>\n",
       "    </tr>\n",
       "    <tr>\n",
       "      <th>385179</th>\n",
       "      <td>rTz-hsyfsBMw-ywhnsSOOQ</td>\n",
       "      <td>SYKy8Y_zDlsDuBoZsAckig</td>\n",
       "      <td>0.4</td>\n",
       "      <td>52299</td>\n",
       "      <td>1763</td>\n",
       "    </tr>\n",
       "    <tr>\n",
       "      <th>128065</th>\n",
       "      <td>ikIT45t6zrQQ55JBoozHFw</td>\n",
       "      <td>9rdEIoILba8wSZcrTLFzNA</td>\n",
       "      <td>0.2</td>\n",
       "      <td>44109</td>\n",
       "      <td>654</td>\n",
       "    </tr>\n",
       "    <tr>\n",
       "      <th>14297</th>\n",
       "      <td>k07Q72rcLjwl-4y1JF_KFA</td>\n",
       "      <td>jkGQQ4_LgJx3hwPtCFkzbQ</td>\n",
       "      <td>0.6</td>\n",
       "      <td>45306</td>\n",
       "      <td>2855</td>\n",
       "    </tr>\n",
       "  </tbody>\n",
       "</table>\n",
       "</div>"
      ],
      "text/plain": [
       "                       user_id             business_id  stars  \\\n",
       "336382  KWrJZDQXkrt9vzQDh9iqJQ  4gvAsj8NRTla82aSBzGytw    0.8   \n",
       "4528    tugozkS2AcmfOR99RdUxjQ  0oSSjekU-3GR8gselReWnA    1.0   \n",
       "385179  rTz-hsyfsBMw-ywhnsSOOQ  SYKy8Y_zDlsDuBoZsAckig    0.4   \n",
       "128065  ikIT45t6zrQQ55JBoozHFw  9rdEIoILba8wSZcrTLFzNA    0.2   \n",
       "14297   k07Q72rcLjwl-4y1JF_KFA  jkGQQ4_LgJx3hwPtCFkzbQ    0.6   \n",
       "\n",
       "        user_id_encoded  business_id_encoded  \n",
       "336382            20384                  330  \n",
       "4528              54609                  106  \n",
       "385179            52299                 1763  \n",
       "128065            44109                  654  \n",
       "14297             45306                 2855  "
      ]
     },
     "execution_count": 110,
     "metadata": {},
     "output_type": "execute_result"
    }
   ],
   "source": [
    "train_data.head()"
   ]
  },
  {
   "cell_type": "code",
   "execution_count": 111,
   "metadata": {},
   "outputs": [
    {
     "data": {
      "text/html": [
       "<div>\n",
       "<style scoped>\n",
       "    .dataframe tbody tr th:only-of-type {\n",
       "        vertical-align: middle;\n",
       "    }\n",
       "\n",
       "    .dataframe tbody tr th {\n",
       "        vertical-align: top;\n",
       "    }\n",
       "\n",
       "    .dataframe thead th {\n",
       "        text-align: right;\n",
       "    }\n",
       "</style>\n",
       "<table border=\"1\" class=\"dataframe\">\n",
       "  <thead>\n",
       "    <tr style=\"text-align: right;\">\n",
       "      <th></th>\n",
       "      <th>user_id</th>\n",
       "      <th>business_id</th>\n",
       "      <th>stars</th>\n",
       "      <th>user_id_encoded</th>\n",
       "      <th>business_id_encoded</th>\n",
       "    </tr>\n",
       "  </thead>\n",
       "  <tbody>\n",
       "    <tr>\n",
       "      <th>88341</th>\n",
       "      <td>70y7ExiEHrawld5lruwUVw</td>\n",
       "      <td>jziliEq8Zum-EynD5v-Hvg</td>\n",
       "      <td>0.6</td>\n",
       "      <td>7667</td>\n",
       "      <td>2867</td>\n",
       "    </tr>\n",
       "    <tr>\n",
       "      <th>325788</th>\n",
       "      <td>LDwoB4NjFZqcCt03J7K2nQ</td>\n",
       "      <td>PhvIKjKB-tkC6Lld0gQn9Q</td>\n",
       "      <td>0.6</td>\n",
       "      <td>20992</td>\n",
       "      <td>1601</td>\n",
       "    </tr>\n",
       "    <tr>\n",
       "      <th>169693</th>\n",
       "      <td>ERC_M2sb4n4kaiKhrrRtJA</td>\n",
       "      <td>OdIBX09glfXNVSyd0RnIeg</td>\n",
       "      <td>0.8</td>\n",
       "      <td>14606</td>\n",
       "      <td>1538</td>\n",
       "    </tr>\n",
       "    <tr>\n",
       "      <th>156427</th>\n",
       "      <td>veZGsORMB2Ti-AMxoXIP0g</td>\n",
       "      <td>Uky0DD3LU4C7eyNDhpmOXg</td>\n",
       "      <td>0.8</td>\n",
       "      <td>56248</td>\n",
       "      <td>1897</td>\n",
       "    </tr>\n",
       "    <tr>\n",
       "      <th>301540</th>\n",
       "      <td>BQZHDwepT-y5hxCXVrND0w</td>\n",
       "      <td>qaDImxPguQz0jToNYvB1Eg</td>\n",
       "      <td>0.8</td>\n",
       "      <td>11752</td>\n",
       "      <td>3280</td>\n",
       "    </tr>\n",
       "  </tbody>\n",
       "</table>\n",
       "</div>"
      ],
      "text/plain": [
       "                       user_id             business_id  stars  \\\n",
       "88341   70y7ExiEHrawld5lruwUVw  jziliEq8Zum-EynD5v-Hvg    0.6   \n",
       "325788  LDwoB4NjFZqcCt03J7K2nQ  PhvIKjKB-tkC6Lld0gQn9Q    0.6   \n",
       "169693  ERC_M2sb4n4kaiKhrrRtJA  OdIBX09glfXNVSyd0RnIeg    0.8   \n",
       "156427  veZGsORMB2Ti-AMxoXIP0g  Uky0DD3LU4C7eyNDhpmOXg    0.8   \n",
       "301540  BQZHDwepT-y5hxCXVrND0w  qaDImxPguQz0jToNYvB1Eg    0.8   \n",
       "\n",
       "        user_id_encoded  business_id_encoded  \n",
       "88341              7667                 2867  \n",
       "325788            20992                 1601  \n",
       "169693            14606                 1538  \n",
       "156427            56248                 1897  \n",
       "301540            11752                 3280  "
      ]
     },
     "execution_count": 111,
     "metadata": {},
     "output_type": "execute_result"
    }
   ],
   "source": [
    "test_data.head()"
   ]
  },
  {
   "cell_type": "code",
   "execution_count": 112,
   "metadata": {},
   "outputs": [
    {
     "name": "stdout",
     "output_type": "stream",
     "text": [
      "GPU device found: /device:GPU:0\n"
     ]
    }
   ],
   "source": [
    "if tf.test.gpu_device_name():\n",
    "    print('GPU device found: {}'.format(tf.test.gpu_device_name()))\n",
    "else:\n",
    "    print(\"No GPU device found. Training on CPU.\")"
   ]
  },
  {
   "cell_type": "code",
   "execution_count": 113,
   "metadata": {},
   "outputs": [
    {
     "name": "stdout",
     "output_type": "stream",
     "text": [
      "Unique Users: 60263, Unique Businesses: 3828\n"
     ]
    }
   ],
   "source": [
    "num_users = len(user_encoder.classes_)\n",
    "num_businesses = len(business_encoder.classes_)\n",
    "\n",
    "print(f\"Unique Users: {num_users}, Unique Businesses: {num_businesses}\")"
   ]
  },
  {
   "cell_type": "code",
   "execution_count": 114,
   "metadata": {},
   "outputs": [
    {
     "name": "stdout",
     "output_type": "stream",
     "text": [
      "Model: \"model_8\"\n",
      "__________________________________________________________________________________________________\n",
      " Layer (type)                   Output Shape         Param #     Connected to                     \n",
      "==================================================================================================\n",
      " user_input (InputLayer)        [(None, 1)]          0           []                               \n",
      "                                                                                                  \n",
      " business_input (InputLayer)    [(None, 1)]          0           []                               \n",
      "                                                                                                  \n",
      " embedding_16 (Embedding)       (None, 1, 32)        1928416     ['user_input[0][0]']             \n",
      "                                                                                                  \n",
      " embedding_17 (Embedding)       (None, 1, 32)        122496      ['business_input[0][0]']         \n",
      "                                                                                                  \n",
      " flatten_14 (Flatten)           (None, 32)           0           ['embedding_16[0][0]']           \n",
      "                                                                                                  \n",
      " flatten_15 (Flatten)           (None, 32)           0           ['embedding_17[0][0]']           \n",
      "                                                                                                  \n",
      " concatenate_8 (Concatenate)    (None, 64)           0           ['flatten_14[0][0]',             \n",
      "                                                                  'flatten_15[0][0]']             \n",
      "                                                                                                  \n",
      " batch_normalization_1 (BatchNo  (None, 64)          256         ['concatenate_8[0][0]']          \n",
      " rmalization)                                                                                     \n",
      "                                                                                                  \n",
      " dense_16 (Dense)               (None, 128)          8320        ['batch_normalization_1[0][0]']  \n",
      "                                                                                                  \n",
      " dropout_4 (Dropout)            (None, 128)          0           ['dense_16[0][0]']               \n",
      "                                                                                                  \n",
      " dense_17 (Dense)               (None, 1)            129         ['dropout_4[0][0]']              \n",
      "                                                                                                  \n",
      "==================================================================================================\n",
      "Total params: 2,059,617\n",
      "Trainable params: 2,059,489\n",
      "Non-trainable params: 128\n",
      "__________________________________________________________________________________________________\n"
     ]
    }
   ],
   "source": [
    "embedding_dim=32\n",
    "\n",
    "user_input = Input(shape=(1,), name='user_input')\n",
    "business_input = Input(shape=(1,), name='business_input')\n",
    "\n",
    "user_embedding = Embedding(input_dim=num_users, output_dim=embedding_dim, embeddings_regularizer=l2(1e-6))(user_input)\n",
    "business_embedding = Embedding(input_dim=num_businesses, output_dim=embedding_dim, embeddings_regularizer=l2(1e-6))(business_input)\n",
    "\n",
    "user_flatten = Flatten()(user_embedding)\n",
    "business_flatten = Flatten()(business_embedding)\n",
    "\n",
    "merged = Concatenate()([user_flatten, business_flatten])\n",
    "merged = BatchNormalization()(merged)\n",
    "\n",
    "dense_layer = Dense(128, activation='relu')(merged)\n",
    "dropout = Dropout(0.4)(dense_layer)\n",
    "output_layer = Dense(1, activation='linear')(dropout)\n",
    "\n",
    "model = Model(inputs=[user_input, business_input], outputs=output_layer)\n",
    "model.compile(loss='mean_squared_error', optimizer='adam', metrics=['mae'])\n",
    "model.summary()"
   ]
  },
  {
   "cell_type": "code",
   "execution_count": 115,
   "metadata": {},
   "outputs": [],
   "source": [
    "batch_size = 128\n",
    "epochs = 20\n",
    "\n",
    "user_ids = train_data['user_id_encoded'].values\n",
    "business_ids = train_data['business_id_encoded'].values\n",
    "stars = train_data['stars'].values"
   ]
  },
  {
   "cell_type": "code",
   "execution_count": 116,
   "metadata": {},
   "outputs": [],
   "source": [
    "model_checkpoint = ModelCheckpoint(f'../saved/model_weights.h5',\n",
    "                             monitor='val_loss',   # Monitor validation loss\n",
    "                             save_best_only=True,  # Save only the best model\n",
    "                             save_weights_only=True,\n",
    "                             mode='min'            # Mode of monitoring (minimize validation loss)\n",
    "                            )\n",
    "\n",
    "early_stopping = EarlyStopping(monitor='val_loss',\n",
    "                               patience=5,\n",
    "                               restore_best_weights=True\n",
    "                              )"
   ]
  },
  {
   "cell_type": "code",
   "execution_count": 117,
   "metadata": {},
   "outputs": [
    {
     "name": "stdout",
     "output_type": "stream",
     "text": [
      "Epoch 1/20\n",
      "2056/2056 [==============================] - 16s 7ms/step - loss: 0.0856 - mae: 0.2203 - val_loss: 0.0458 - val_mae: 0.1671\n",
      "Epoch 2/20\n",
      "2056/2056 [==============================] - 16s 8ms/step - loss: 0.0437 - mae: 0.1617 - val_loss: 0.0452 - val_mae: 0.1635\n",
      "Epoch 3/20\n",
      "2056/2056 [==============================] - 15s 7ms/step - loss: 0.0383 - mae: 0.1478 - val_loss: 0.0466 - val_mae: 0.1646\n",
      "Epoch 4/20\n",
      "2056/2056 [==============================] - 15s 7ms/step - loss: 0.0347 - mae: 0.1377 - val_loss: 0.0485 - val_mae: 0.1664\n",
      "Epoch 5/20\n",
      "2056/2056 [==============================] - 14s 7ms/step - loss: 0.0316 - mae: 0.1291 - val_loss: 0.0500 - val_mae: 0.1677\n",
      "Epoch 6/20\n",
      "2056/2056 [==============================] - 15s 7ms/step - loss: 0.0293 - mae: 0.1229 - val_loss: 0.0517 - val_mae: 0.1700\n",
      "Epoch 7/20\n",
      "2056/2056 [==============================] - 14s 7ms/step - loss: 0.0279 - mae: 0.1189 - val_loss: 0.0524 - val_mae: 0.1709\n"
     ]
    }
   ],
   "source": [
    "history = model.fit(\n",
    "    [user_ids, business_ids],\n",
    "    stars,\n",
    "    batch_size=batch_size,\n",
    "    epochs=epochs,\n",
    "    validation_split=0.2,\n",
    "    callbacks=[early_stopping, model_checkpoint]\n",
    ")"
   ]
  },
  {
   "cell_type": "code",
   "execution_count": null,
   "metadata": {},
   "outputs": [],
   "source": []
  },
  {
   "cell_type": "code",
   "execution_count": 118,
   "metadata": {},
   "outputs": [
    {
     "data": {
      "text/html": [
       "<div>\n",
       "<style scoped>\n",
       "    .dataframe tbody tr th:only-of-type {\n",
       "        vertical-align: middle;\n",
       "    }\n",
       "\n",
       "    .dataframe tbody tr th {\n",
       "        vertical-align: top;\n",
       "    }\n",
       "\n",
       "    .dataframe thead th {\n",
       "        text-align: right;\n",
       "    }\n",
       "</style>\n",
       "<table border=\"1\" class=\"dataframe\">\n",
       "  <thead>\n",
       "    <tr style=\"text-align: right;\">\n",
       "      <th></th>\n",
       "      <th>user_id</th>\n",
       "      <th>business_id</th>\n",
       "      <th>stars</th>\n",
       "      <th>user_id_encoded</th>\n",
       "      <th>business_id_encoded</th>\n",
       "    </tr>\n",
       "  </thead>\n",
       "  <tbody>\n",
       "    <tr>\n",
       "      <th>88341</th>\n",
       "      <td>70y7ExiEHrawld5lruwUVw</td>\n",
       "      <td>jziliEq8Zum-EynD5v-Hvg</td>\n",
       "      <td>0.6</td>\n",
       "      <td>7667</td>\n",
       "      <td>2867</td>\n",
       "    </tr>\n",
       "    <tr>\n",
       "      <th>325788</th>\n",
       "      <td>LDwoB4NjFZqcCt03J7K2nQ</td>\n",
       "      <td>PhvIKjKB-tkC6Lld0gQn9Q</td>\n",
       "      <td>0.6</td>\n",
       "      <td>20992</td>\n",
       "      <td>1601</td>\n",
       "    </tr>\n",
       "    <tr>\n",
       "      <th>169693</th>\n",
       "      <td>ERC_M2sb4n4kaiKhrrRtJA</td>\n",
       "      <td>OdIBX09glfXNVSyd0RnIeg</td>\n",
       "      <td>0.8</td>\n",
       "      <td>14606</td>\n",
       "      <td>1538</td>\n",
       "    </tr>\n",
       "    <tr>\n",
       "      <th>156427</th>\n",
       "      <td>veZGsORMB2Ti-AMxoXIP0g</td>\n",
       "      <td>Uky0DD3LU4C7eyNDhpmOXg</td>\n",
       "      <td>0.8</td>\n",
       "      <td>56248</td>\n",
       "      <td>1897</td>\n",
       "    </tr>\n",
       "    <tr>\n",
       "      <th>301540</th>\n",
       "      <td>BQZHDwepT-y5hxCXVrND0w</td>\n",
       "      <td>qaDImxPguQz0jToNYvB1Eg</td>\n",
       "      <td>0.8</td>\n",
       "      <td>11752</td>\n",
       "      <td>3280</td>\n",
       "    </tr>\n",
       "  </tbody>\n",
       "</table>\n",
       "</div>"
      ],
      "text/plain": [
       "                       user_id             business_id  stars  \\\n",
       "88341   70y7ExiEHrawld5lruwUVw  jziliEq8Zum-EynD5v-Hvg    0.6   \n",
       "325788  LDwoB4NjFZqcCt03J7K2nQ  PhvIKjKB-tkC6Lld0gQn9Q    0.6   \n",
       "169693  ERC_M2sb4n4kaiKhrrRtJA  OdIBX09glfXNVSyd0RnIeg    0.8   \n",
       "156427  veZGsORMB2Ti-AMxoXIP0g  Uky0DD3LU4C7eyNDhpmOXg    0.8   \n",
       "301540  BQZHDwepT-y5hxCXVrND0w  qaDImxPguQz0jToNYvB1Eg    0.8   \n",
       "\n",
       "        user_id_encoded  business_id_encoded  \n",
       "88341              7667                 2867  \n",
       "325788            20992                 1601  \n",
       "169693            14606                 1538  \n",
       "156427            56248                 1897  \n",
       "301540            11752                 3280  "
      ]
     },
     "execution_count": 118,
     "metadata": {},
     "output_type": "execute_result"
    }
   ],
   "source": [
    "test_data.head()"
   ]
  },
  {
   "cell_type": "code",
   "execution_count": 119,
   "metadata": {},
   "outputs": [],
   "source": [
    "test_user_ids = test_data['user_id_encoded'].values\n",
    "test_business_ids = test_data['business_id_encoded'].values\n",
    "test_stars = test_data['stars'].values"
   ]
  },
  {
   "cell_type": "code",
   "execution_count": 120,
   "metadata": {},
   "outputs": [],
   "source": [
    "predictions = model.predict([test_user_ids, test_business_ids])"
   ]
  },
  {
   "cell_type": "code",
   "execution_count": 121,
   "metadata": {},
   "outputs": [
    {
     "data": {
      "text/plain": [
       "array([[0.80033386],\n",
       "       [0.7516659 ],\n",
       "       [0.8365202 ],\n",
       "       ...,\n",
       "       [0.7373908 ],\n",
       "       [0.8345917 ],\n",
       "       [0.76848227]], dtype=float32)"
      ]
     },
     "execution_count": 121,
     "metadata": {},
     "output_type": "execute_result"
    }
   ],
   "source": [
    "predictions"
   ]
  },
  {
   "cell_type": "code",
   "execution_count": 122,
   "metadata": {},
   "outputs": [
    {
     "data": {
      "text/plain": [
       "(0.09225136, 1.1443138)"
      ]
     },
     "execution_count": 122,
     "metadata": {},
     "output_type": "execute_result"
    }
   ],
   "source": [
    "predictions.min(), predictions.max()"
   ]
  },
  {
   "cell_type": "code",
   "execution_count": 123,
   "metadata": {},
   "outputs": [
    {
     "data": {
      "text/plain": [
       "0.042213771433088056"
      ]
     },
     "execution_count": 123,
     "metadata": {},
     "output_type": "execute_result"
    }
   ],
   "source": [
    "mean_squared_error(predictions,test_stars)"
   ]
  },
  {
   "cell_type": "code",
   "execution_count": 124,
   "metadata": {},
   "outputs": [
    {
     "data": {
      "text/plain": [
       "0.16063959959855362"
      ]
     },
     "execution_count": 124,
     "metadata": {},
     "output_type": "execute_result"
    }
   ],
   "source": [
    "mean_absolute_error(predictions,test_stars)"
   ]
  },
  {
   "cell_type": "code",
   "execution_count": 128,
   "metadata": {},
   "outputs": [
    {
     "data": {
      "text/plain": [
       "array([[0.96884644]], dtype=float32)"
      ]
     },
     "execution_count": 128,
     "metadata": {},
     "output_type": "execute_result"
    }
   ],
   "source": [
    "model.predict([np.array([11752]), np.array([3280])])"
   ]
  },
  {
   "cell_type": "code",
   "execution_count": null,
   "metadata": {},
   "outputs": [],
   "source": []
  },
  {
   "cell_type": "code",
   "execution_count": null,
   "metadata": {},
   "outputs": [],
   "source": []
  }
 ],
 "metadata": {
  "kernelspec": {
   "display_name": "Python 3",
   "language": "python",
   "name": "python3"
  },
  "language_info": {
   "codemirror_mode": {
    "name": "ipython",
    "version": 3
   },
   "file_extension": ".py",
   "mimetype": "text/x-python",
   "name": "python",
   "nbconvert_exporter": "python",
   "pygments_lexer": "ipython3",
   "version": "3.7.4"
  }
 },
 "nbformat": 4,
 "nbformat_minor": 4
}
